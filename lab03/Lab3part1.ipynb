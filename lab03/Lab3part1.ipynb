{
 "cells": [
  {
   "cell_type": "code",
   "execution_count": 17,
   "metadata": {},
   "outputs": [],
   "source": [
    "# import packages\n",
    "import requests\n",
    "import zipfile\n",
    "import arcpy\n",
    "import pprint\n",
    "import json\n",
    "import os\n",
    "import csv\n",
    "from io import BytesIO\n",
    "import shutil\n",
    "import arcpy.mp as mp\n"
   ]
  },
  {
   "cell_type": "code",
   "execution_count": 18,
   "metadata": {},
   "outputs": [
    {
     "name": "stderr",
     "output_type": "stream",
     "text": [
      "C:\\Users\\18284\\AppData\\Local\\ESRI\\conda\\envs\\arcgispro-py3-clone\\lib\\site-packages\\urllib3\\connectionpool.py:1045: InsecureRequestWarning: Unverified HTTPS request is being made to host 'gisdata.mn.gov'. Adding certificate verification is strongly advised. See: https://urllib3.readthedocs.io/en/1.26.x/advanced-usage.html#ssl-warnings\n",
      "  warnings.warn(\n"
     ]
    },
    {
     "name": "stdout",
     "output_type": "stream",
     "text": [
      "['Land Use/Cover, Agricultural and Transition Areas, Minnesota, 1990', 'Land Cover, Forested Area, Minnesota, 1990s', 'Minnesota Land Use and Cover: 1990s Census of the Land (8 category statewide)', 'Land Use:  Camp Ripley and Beltrami Island State Forest, Minnesota', 'NLCD 2001 Land Cover', 'NLCD 2006 Land Cover', 'Generalized Land Use 2000', 'Generalized Land Use 2005', 'Generalized Land Use 2016', 'Generalized Land Use 2010']\n"
     ]
    }
   ],
   "source": [
    "mn_gsc_api_url = \"https://gisdata.mn.gov/api/3/action\"\n",
    "\n",
    "# MN geospatial commons api search datasets request for land use\n",
    "\n",
    "search_datasets_url = mn_gsc_api_url + \"/package_search\"\n",
    "query = \"Land Use/Cover, Agricultural and Transition Areas, Minnesota, 1990\"\n",
    "request_url = search_datasets_url + f\"?q={query}\"\n",
    "response = requests.get(request_url, verify=False) # verify=False disables SSL certification validation which makes it mad but i cant get it to work without disabling it\n",
    "response_data = json.loads(response.text)\n",
    "found_dataset_names = [dataset[\"title\"] for dataset in response_data[\"result\"][\"results\"]]\n",
    "print(found_dataset_names)"
   ]
  },
  {
   "cell_type": "code",
   "execution_count": 19,
   "metadata": {},
   "outputs": [
    {
     "name": "stderr",
     "output_type": "stream",
     "text": [
      "C:\\Users\\18284\\AppData\\Local\\ESRI\\conda\\envs\\arcgispro-py3-clone\\lib\\site-packages\\urllib3\\connectionpool.py:1045: InsecureRequestWarning: Unverified HTTPS request is being made to host 'gisdata.mn.gov'. Adding certificate verification is strongly advised. See: https://urllib3.readthedocs.io/en/1.26.x/advanced-usage.html#ssl-warnings\n",
      "  warnings.warn(\n"
     ]
    },
    {
     "name": "stdout",
     "output_type": "stream",
     "text": [
      "https://resources.gisdata.mn.gov/pub/gdrs/data/pub/us_mn_state_dnr/biota_landcover_landsat_tm_1990/fgdb_biota_landcover_landsat_tm_1990.zip\n"
     ]
    }
   ],
   "source": [
    "# MN geospatial commons api get dataset request for land use\n",
    "\n",
    "first_dataset_result_id = response_data[\"result\"][\"results\"][0][\"id\"] # grab dataset that is first in returned dataset results\n",
    "get_dataset_url = mn_gsc_api_url + \"/package_show\"\n",
    "id = first_dataset_result_id\n",
    "request_url = get_dataset_url + f\"?id={id}\"\n",
    "response = requests.get(request_url, verify=False) # again disabling ssl cert validation\n",
    "response_data = json.loads(response.text)\n",
    "resources = response_data[\"result\"][\"resources\"]\n",
    "raw_zip_dataset_file_download_url = [resource for resource in resources if resource[\"resource_type\"] == \"fgdb\"][0][\"url\"]\n",
    "print(raw_zip_dataset_file_download_url)"
   ]
  },
  {
   "cell_type": "code",
   "execution_count": 20,
   "metadata": {},
   "outputs": [
    {
     "name": "stdout",
     "output_type": "stream",
     "text": [
      "['Land Use-Cover, Ag and Transition Areas, 1990.lyr', 'Land Use-Cover, Ag and Transition Areas, 1990.lyrx', 'metadata/metadata.html', 'metadata/metadata.xml', 'metadata/preview.jpg', 'metadata/Thumbs.db', 'biota_landcover_landsat_tm_1990.gdb/a00000006.CatRelTypesByBackwardLabel.atx', 'biota_landcover_landsat_tm_1990.gdb/a00000004.gdbtable', 'biota_landcover_landsat_tm_1990.gdb/a00000006.gdbindexes', 'biota_landcover_landsat_tm_1990.gdb/a00000007.gdbindexes', 'biota_landcover_landsat_tm_1990.gdb/a00000009.gdbtable.FDO_OBJECTID.gdbtabidx', 'biota_landcover_landsat_tm_1990.gdb/a00000004.CatItemsByType.atx', 'biota_landcover_landsat_tm_1990.gdb/a00000006.CatRelTypesByOriginItemTypeID.atx', 'biota_landcover_landsat_tm_1990.gdb/a00000005.FDO_UUID.atx', 'biota_landcover_landsat_tm_1990.gdb/a00000007.gdbtable', 'biota_landcover_landsat_tm_1990.gdb/a00000004.gdbindexes', 'biota_landcover_landsat_tm_1990.gdb/a00000004.horizon', 'biota_landcover_landsat_tm_1990.gdb/a00000005.CatRelsByDestinationID.atx', 'biota_landcover_landsat_tm_1990.gdb/a00000001.gdbtable', 'biota_landcover_landsat_tm_1990.gdb/a00000007.CatItemTypesByUUID.atx', 'biota_landcover_landsat_tm_1990.gdb/a00000003.gdbindexes', 'biota_landcover_landsat_tm_1990.gdb/a00000007.gdbtablx', 'biota_landcover_landsat_tm_1990.gdb/a00000001.gdbtablx', 'biota_landcover_landsat_tm_1990.gdb/a00000001.TablesByName.atx', 'biota_landcover_landsat_tm_1990.gdb/a00000006.CatRelTypesByUUID.atx', 'biota_landcover_landsat_tm_1990.gdb/a00000005.CatRelsByType.atx', 'biota_landcover_landsat_tm_1990.gdb/a00000004.gdbtablx', 'biota_landcover_landsat_tm_1990.gdb/a00000007.CatItemTypesByName.atx', 'biota_landcover_landsat_tm_1990.gdb/a00000004.spx', 'biota_landcover_landsat_tm_1990.gdb/a00000005.gdbtable', 'biota_landcover_landsat_tm_1990.gdb/a00000002.gdbtablx', 'biota_landcover_landsat_tm_1990.gdb/a00000009.gdbtable.cdf', 'biota_landcover_landsat_tm_1990.gdb/a00000002.gdbtable', 'biota_landcover_landsat_tm_1990.gdb/a00000004.freelist', 'biota_landcover_landsat_tm_1990.gdb/a00000006.CatRelTypesByForwardLabel.atx', 'biota_landcover_landsat_tm_1990.gdb/a00000005.gdbtablx', 'biota_landcover_landsat_tm_1990.gdb/a00000009.gdbtable.XLUSE_CODE_IDX.gdbtabidx', 'biota_landcover_landsat_tm_1990.gdb/a00000001.gdbindexes', 'biota_landcover_landsat_tm_1990.gdb/a00000003.gdbtable', 'biota_landcover_landsat_tm_1990.gdb/a00000006.CatRelTypesByDestItemTypeID.atx', 'biota_landcover_landsat_tm_1990.gdb/a00000007.CatItemTypesByParentTypeID.atx', 'biota_landcover_landsat_tm_1990.gdb/a00000005.CatRelsByOriginID.atx', 'biota_landcover_landsat_tm_1990.gdb/gdb', 'biota_landcover_landsat_tm_1990.gdb/a00000005.gdbindexes', 'biota_landcover_landsat_tm_1990.gdb/a00000003.gdbtablx', 'biota_landcover_landsat_tm_1990.gdb/a00000009.gdbtable', 'biota_landcover_landsat_tm_1990.gdb/timestamps', 'biota_landcover_landsat_tm_1990.gdb/a00000006.CatRelTypesByName.atx', 'biota_landcover_landsat_tm_1990.gdb/a00000009.gdbtable.LUSE_CODE_IDX.gdbtabidx', 'biota_landcover_landsat_tm_1990.gdb/a00000006.gdbtable', 'biota_landcover_landsat_tm_1990.gdb/a00000006.gdbtablx', 'biota_landcover_landsat_tm_1990.gdb/a00000004.FDO_UUID.atx', 'biota_landcover_landsat_tm_1990.gdb/a00000004.CatItemsByPhysicalName.atx']\n"
     ]
    }
   ],
   "source": [
    "# download landuse\n",
    "response = requests.get(raw_zip_dataset_file_download_url)\n",
    "# check response.status_code to see if download was successful, should return '200'\n",
    "os.chdir(r\"C:\\Users\\18284\\Documents\\ArcGIS\\Projects\\lab3\\arc1lab3\")\n",
    "if response.status_code == 200:\n",
    "    # Open zipfile\n",
    "    with zipfile.ZipFile(BytesIO(response.content)) as z:\n",
    "        # extract contents of zipfile\n",
    "        z.extractall('landuse') # extracts contents into a folder named 'landuse'\n",
    "        \n",
    "        # assuming there's only one landuse file in the zip, get its name\n",
    "        landuse_file = [name for name in z.namelist()]\n",
    "        print(landuse_file)"
   ]
  },
  {
   "cell_type": "code",
   "execution_count": 21,
   "metadata": {},
   "outputs": [
    {
     "name": "stderr",
     "output_type": "stream",
     "text": [
      "C:\\Users\\18284\\AppData\\Local\\ESRI\\conda\\envs\\arcgispro-py3-clone\\lib\\site-packages\\urllib3\\connectionpool.py:1045: InsecureRequestWarning: Unverified HTTPS request is being made to host 'gisdata.mn.gov'. Adding certificate verification is strongly advised. See: https://urllib3.readthedocs.io/en/1.26.x/advanced-usage.html#ssl-warnings\n",
      "  warnings.warn(\n"
     ]
    },
    {
     "name": "stdout",
     "output_type": "stream",
     "text": [
      "['County Boundaries in Minnesota', 'County Boundaries, Minnesota', 'Municipal Boundaries, Dakota County, Minnesota', 'Administrative Boundaries, Ramsey County, Minnesota', 'Political and Administrative Boundaries, Dakota County, Minnesota', 'State Boundary, Minnesota', 'Boundaries of Minnesota', 'Senate District Boundaries, Minnesota, 2012', 'House District Boundaries, Minnesota, 1994', 'House District Boundaries, Minnesota, 2002']\n"
     ]
    }
   ],
   "source": [
    "mn_gsc_api_url = \"https://gisdata.mn.gov/api/3/action\"\n",
    "\n",
    "# MN geospatial commons api search datasets request for counties\n",
    "\n",
    "search_datasets_url = mn_gsc_api_url + \"/package_search\"\n",
    "query = \"County Boundaries, Minnesota\"\n",
    "request_url = search_datasets_url + f\"?q={query}\"\n",
    "response = requests.get(request_url, verify=False) # verify=False disables SSL certification validation which makes it mad but i cant get it to work without disabling it\n",
    "response_data = json.loads(response.text)\n",
    "found_dataset_names = [dataset[\"title\"] for dataset in response_data[\"result\"][\"results\"]]\n",
    "print(found_dataset_names)"
   ]
  },
  {
   "cell_type": "code",
   "execution_count": 22,
   "metadata": {},
   "outputs": [
    {
     "name": "stderr",
     "output_type": "stream",
     "text": [
      "C:\\Users\\18284\\AppData\\Local\\ESRI\\conda\\envs\\arcgispro-py3-clone\\lib\\site-packages\\urllib3\\connectionpool.py:1045: InsecureRequestWarning: Unverified HTTPS request is being made to host 'gisdata.mn.gov'. Adding certificate verification is strongly advised. See: https://urllib3.readthedocs.io/en/1.26.x/advanced-usage.html#ssl-warnings\n",
      "  warnings.warn(\n"
     ]
    },
    {
     "name": "stdout",
     "output_type": "stream",
     "text": [
      "https://resources.gisdata.mn.gov/pub/gdrs/data/pub/us_mn_state_dnr/bdry_counties_in_minnesota/fgdb_bdry_counties_in_minnesota.zip\n"
     ]
    }
   ],
   "source": [
    "# MN geospatial commons api get dataset request for counties\n",
    "\n",
    "first_dataset_result_id = response_data[\"result\"][\"results\"][1][\"id\"] # grab dataset that is second in returned dataset results\n",
    "get_dataset_url = mn_gsc_api_url + \"/package_show\"\n",
    "id = first_dataset_result_id\n",
    "request_url = get_dataset_url + f\"?id={id}\"\n",
    "response = requests.get(request_url, verify=False) # again disabling ssl cert validation\n",
    "response_data = json.loads(response.text)\n",
    "resources = response_data[\"result\"][\"resources\"]\n",
    "raw_zip_dataset_file_download_url = [resource for resource in resources if resource[\"resource_type\"] == \"fgdb\"][0][\"url\"]\n",
    "print(raw_zip_dataset_file_download_url)"
   ]
  },
  {
   "cell_type": "code",
   "execution_count": 25,
   "metadata": {
    "scrolled": true
   },
   "outputs": [
    {
     "name": "stdout",
     "output_type": "stream",
     "text": [
      "['Counties in Minnesota.qlr', 'Counties in Minnesota.lyr', 'metadata/metadata.html', 'metadata/metadata.xml', 'bdry_counties_in_minnesota.gdb/a0000000e.gdbtable', 'bdry_counties_in_minnesota.gdb/a0000000d.gdbtablx', 'bdry_counties_in_minnesota.gdb/a0000000e.gdbindexes', 'bdry_counties_in_minnesota.gdb/a00000006.CatRelTypesByBackwardLabel.atx', 'bdry_counties_in_minnesota.gdb/a00000004.gdbtable', 'bdry_counties_in_minnesota.gdb/a0000000c.horizon', 'bdry_counties_in_minnesota.gdb/a00000006.gdbindexes', 'bdry_counties_in_minnesota.gdb/a00000007.gdbindexes', 'bdry_counties_in_minnesota.gdb/a0000000c.gdbtablx', 'bdry_counties_in_minnesota.gdb/a00000004.CatItemsByType.atx', 'bdry_counties_in_minnesota.gdb/a00000006.CatRelTypesByOriginItemTypeID.atx', 'bdry_counties_in_minnesota.gdb/a00000005.FDO_UUID.atx', 'bdry_counties_in_minnesota.gdb/a00000007.gdbtable', 'bdry_counties_in_minnesota.gdb/a0000000d.spx', 'bdry_counties_in_minnesota.gdb/a00000009.gdbtablx', 'bdry_counties_in_minnesota.gdb/a00000004.gdbindexes', 'bdry_counties_in_minnesota.gdb/a0000000f.gdbtablx', 'bdry_counties_in_minnesota.gdb/a0000000a.I8Status.atx', 'bdry_counties_in_minnesota.gdb/a0000000a.G8FeatureID.atx', 'bdry_counties_in_minnesota.gdb/a00000004.horizon', 'bdry_counties_in_minnesota.gdb/a00000005.CatRelsByDestinationID.atx', 'bdry_counties_in_minnesota.gdb/a00000001.gdbtable', 'bdry_counties_in_minnesota.gdb/a0000000e.I12AnnotationCla.atx', 'bdry_counties_in_minnesota.gdb/a0000000a.spx', 'bdry_counties_in_minnesota.gdb/a0000000e.I12Status.atx', 'bdry_counties_in_minnesota.gdb/a0000000b.gdbtablx', 'bdry_counties_in_minnesota.gdb/a0000000a.horizon', 'bdry_counties_in_minnesota.gdb/a00000007.CatItemTypesByUUID.atx', 'bdry_counties_in_minnesota.gdb/a00000003.gdbindexes', 'bdry_counties_in_minnesota.gdb/a0000000a.gdbindexes', 'bdry_counties_in_minnesota.gdb/a0000000a.gdbtablx', 'bdry_counties_in_minnesota.gdb/a00000007.gdbtablx', 'bdry_counties_in_minnesota.gdb/a00000009.horizon', 'bdry_counties_in_minnesota.gdb/a0000000b.gdbindexes', 'bdry_counties_in_minnesota.gdb/a00000001.gdbtablx', 'bdry_counties_in_minnesota.gdb/a00000001.TablesByName.atx', 'bdry_counties_in_minnesota.gdb/a00000006.CatRelTypesByUUID.atx', 'bdry_counties_in_minnesota.gdb/a0000000b.spx', 'bdry_counties_in_minnesota.gdb/a00000005.CatRelsByType.atx', 'bdry_counties_in_minnesota.gdb/a00000004.gdbtablx', 'bdry_counties_in_minnesota.gdb/a00000007.CatItemTypesByName.atx', 'bdry_counties_in_minnesota.gdb/a00000004.spx', 'bdry_counties_in_minnesota.gdb/a00000005.gdbtable', 'bdry_counties_in_minnesota.gdb/a0000000a.gdbtable', 'bdry_counties_in_minnesota.gdb/a0000000f.gdbindexes', 'bdry_counties_in_minnesota.gdb/a00000002.gdbtablx', 'bdry_counties_in_minnesota.gdb/a0000000c.gdbtable', 'bdry_counties_in_minnesota.gdb/a00000002.gdbtable', 'bdry_counties_in_minnesota.gdb/a00000006.CatRelTypesByForwardLabel.atx', 'bdry_counties_in_minnesota.gdb/a00000005.gdbtablx', 'bdry_counties_in_minnesota.gdb/a0000000d.gdbtable', 'bdry_counties_in_minnesota.gdb/a0000000d.horizon', 'bdry_counties_in_minnesota.gdb/a00000001.gdbindexes', 'bdry_counties_in_minnesota.gdb/a0000000e.gdbtablx', 'bdry_counties_in_minnesota.gdb/a00000003.gdbtable', 'bdry_counties_in_minnesota.gdb/a00000006.CatRelTypesByDestItemTypeID.atx', 'bdry_counties_in_minnesota.gdb/a00000007.CatItemTypesByParentTypeID.atx', 'bdry_counties_in_minnesota.gdb/a00000005.CatRelsByOriginID.atx', 'bdry_counties_in_minnesota.gdb/a0000000a.I8AnnotationClas.atx', 'bdry_counties_in_minnesota.gdb/a0000000e.horizon', 'bdry_counties_in_minnesota.gdb/a0000000d.gdbindexes', 'bdry_counties_in_minnesota.gdb/gdb', 'bdry_counties_in_minnesota.gdb/a00000005.gdbindexes', 'bdry_counties_in_minnesota.gdb/a00000003.gdbtablx', 'bdry_counties_in_minnesota.gdb/a0000000f.horizon', 'bdry_counties_in_minnesota.gdb/a00000009.gdbtable', 'bdry_counties_in_minnesota.gdb/timestamps', 'bdry_counties_in_minnesota.gdb/a0000000c.gdbindexes', 'bdry_counties_in_minnesota.gdb/a00000009.spx', 'bdry_counties_in_minnesota.gdb/a00000006.CatRelTypesByName.atx', 'bdry_counties_in_minnesota.gdb/a00000009.gdbindexes', 'bdry_counties_in_minnesota.gdb/a0000000b.horizon', 'bdry_counties_in_minnesota.gdb/a0000000e.spx', 'bdry_counties_in_minnesota.gdb/a00000006.gdbtable', 'bdry_counties_in_minnesota.gdb/a0000000f.gdbtable', 'bdry_counties_in_minnesota.gdb/a0000000c.spx', 'bdry_counties_in_minnesota.gdb/a00000006.gdbtablx', 'bdry_counties_in_minnesota.gdb/a00000004.FDO_UUID.atx', 'bdry_counties_in_minnesota.gdb/a0000000b.gdbtable', 'bdry_counties_in_minnesota.gdb/a00000004.CatItemsByPhysicalName.atx', 'bdry_counties_in_minnesota.gdb/a0000000f.spx']\n"
     ]
    }
   ],
   "source": [
    "# download counties\n",
    "response = requests.get(raw_zip_dataset_file_download_url)\n",
    "# check response.status_code to see if download was successful, should return '200'\n",
    "os.chdir(r\"C:\\Users\\18284\\Documents\\ArcGIS\\Projects\\lab3\\arc1lab3\")\n",
    "if response.status_code == 200:\n",
    "    # Open zipfile\n",
    "    with zipfile.ZipFile(BytesIO(response.content)) as z:\n",
    "        # extract contents of zipfile\n",
    "        z.extractall('counties') # extracts contents into a folder named 'counties'\n",
    "        \n",
    "        # assuming there's only one landuse file in the zip, get its name\n",
    "        counties_file = [name for name in z.namelist()]\n",
    "        print(counties_file)"
   ]
  },
  {
   "cell_type": "code",
   "execution_count": 29,
   "metadata": {},
   "outputs": [
    {
     "data": {
      "text/html": [
       "<div class='gpresult'><h2>Messages</h2><div id='messages' data-messages='[\"Start Time: Wednesday, December 6, 2023 2:15:14 PM\",\"Succeeded at Wednesday, December 6, 2023 2:15:15 PM (Elapsed Time: 1.07 seconds)\"]' data-show='true'><div id = 'default' /></div></div>"
      ],
      "text/plain": [
       "<Result 'C:\\\\Users\\\\18284\\\\Documents\\\\ArcGIS\\\\Projects\\\\lab3\\\\arc1lab3\\\\counties.shp'>"
      ]
     },
     "execution_count": 29,
     "metadata": {},
     "output_type": "execute_result"
    }
   ],
   "source": [
    "# export out wabasha & winona & olmstead county\n",
    "arcpy.conversion.ExportFeatures(\"mn_county_boundaries\", r\"C:\\Users\\18284\\Documents\\ArcGIS\\Projects\\lab3\\arc1lab3\\counties\", \"CTY_ABBR = 'WABA' OR CTY_ABBR = 'WINO' OR CTY_ABBR = 'OLMS'\")"
   ]
  },
  {
   "cell_type": "code",
   "execution_count": 31,
   "metadata": {},
   "outputs": [
    {
     "data": {
      "text/html": [
       "<div class='gpresult'><h2>Messages</h2><div id='messages' data-messages='[\"Start Time: Wednesday, December 6, 2023 2:16:27 PM\",\"Reading Features...\",\"Cracking Features...\",\"Assembling Features...\",\"Succeeded at Wednesday, December 6, 2023 2:16:36 PM (Elapsed Time: 9.00 seconds)\"]' data-show='true'><div id = 'default' /></div></div>"
      ],
      "text/plain": [
       "<Result 'C:\\\\Users\\\\18284\\\\Documents\\\\ArcGIS\\\\Projects\\\\lab3\\\\lab3.gdb\\\\landcover_landsat_tm_19_Clip'>"
      ]
     },
     "execution_count": 31,
     "metadata": {},
     "output_type": "execute_result"
    }
   ],
   "source": [
    "# clip landuse data with county data\n",
    "arcpy.analysis.Clip(\n",
    "    in_features=\"landcover_landsat_tm_1990\",\n",
    "    clip_features=\"counties\",\n",
    "    out_feature_class=r\"C:\\Users\\18284\\Documents\\ArcGIS\\Projects\\lab3\\lab3.gdb\\landcover_landsat_tm_19_Clip\",\n",
    "    cluster_tolerance=None\n",
    ")"
   ]
  },
  {
   "cell_type": "code",
   "execution_count": 34,
   "metadata": {},
   "outputs": [
    {
     "name": "stdout",
     "output_type": "stream",
     "text": [
      "C:\\Users\\18284\\Documents\\ArcGIS\\Projects\\lab3\\arc1lab3\\laz\\wino1.laz\n",
      "C:\\Users\\18284\\Documents\\ArcGIS\\Projects\\lab3\\arc1lab3\\laz\\wino2.laz\n",
      "C:\\Users\\18284\\Documents\\ArcGIS\\Projects\\lab3\\arc1lab3\\laz\\wino3.laz\n",
      "C:\\Users\\18284\\Documents\\ArcGIS\\Projects\\lab3\\arc1lab3\\laz\\wino4.laz\n",
      "C:\\Users\\18284\\Documents\\ArcGIS\\Projects\\lab3\\arc1lab3\\laz\\wino5.laz\n",
      "C:\\Users\\18284\\Documents\\ArcGIS\\Projects\\lab3\\arc1lab3\\laz\\wino6.laz\n",
      "C:\\Users\\18284\\Documents\\ArcGIS\\Projects\\lab3\\arc1lab3\\laz\\wino7.laz\n",
      "C:\\Users\\18284\\Documents\\ArcGIS\\Projects\\lab3\\arc1lab3\\laz\\wino8.laz\n",
      "C:\\Users\\18284\\Documents\\ArcGIS\\Projects\\lab3\\arc1lab3\\laz\\waba1.laz\n",
      "C:\\Users\\18284\\Documents\\ArcGIS\\Projects\\lab3\\arc1lab3\\laz\\waba2.laz\n",
      "C:\\Users\\18284\\Documents\\ArcGIS\\Projects\\lab3\\arc1lab3\\laz\\waba3.laz\n",
      "C:\\Users\\18284\\Documents\\ArcGIS\\Projects\\lab3\\arc1lab3\\laz\\waba4.laz\n",
      "C:\\Users\\18284\\Documents\\ArcGIS\\Projects\\lab3\\arc1lab3\\laz\\waba5.laz\n",
      "C:\\Users\\18284\\Documents\\ArcGIS\\Projects\\lab3\\arc1lab3\\laz\\waba6.laz\n",
      "C:\\Users\\18284\\Documents\\ArcGIS\\Projects\\lab3\\arc1lab3\\laz\\waba7.laz\n",
      "C:\\Users\\18284\\Documents\\ArcGIS\\Projects\\lab3\\arc1lab3\\laz\\waba8.laz\n"
     ]
    }
   ],
   "source": [
    "# make a dictionary for the .laz api urls\n",
    "# pulled from lab 2\n",
    "folder = r'C:\\Users\\18284\\Documents\\ArcGIS\\Projects\\lab3\\arc1lab3\\laz'\n",
    "laz_dict = {\n",
    "    \"wino1\": 'https://resources.gisdata.mn.gov/pub/data/elevation/lidar/county/winona/laz/4342-30-62.laz',\n",
    "    \"wino2\": 'https://resources.gisdata.mn.gov/pub/data/elevation/lidar/county/winona/laz/4342-30-63.laz',\n",
    "    \"wino3\": 'https://resources.gisdata.mn.gov/pub/data/elevation/lidar/county/winona/laz/4342-30-64.laz',\n",
    "    \"wino4\": 'https://resources.gisdata.mn.gov/pub/data/elevation/lidar/county/winona/laz/4342-31-64.laz',\n",
    "    \"wino5\": 'https://resources.gisdata.mn.gov/pub/data/elevation/lidar/county/winona/laz/4342-31-63.laz',\n",
    "    \"wino6\": 'https://resources.gisdata.mn.gov/pub/data/elevation/lidar/county/winona/laz/4342-31-62.laz',\n",
    "    \"wino7\": 'https://resources.gisdata.mn.gov/pub/data/elevation/lidar/county/winona/laz/4342-29-63.laz',\n",
    "    \"wino8\": 'https://resources.gisdata.mn.gov/pub/data/elevation/lidar/county/winona/laz/4342-29-64.laz',\n",
    "    \"waba1\": 'https://resources.gisdata.mn.gov/pub/data/elevation/lidar/county/wabasha/laz/4342-28-59.laz',\n",
    "    \"waba2\": 'https://resources.gisdata.mn.gov/pub/data/elevation/lidar/county/wabasha/laz/4342-28-60.laz',\n",
    "    \"waba3\": 'https://resources.gisdata.mn.gov/pub/data/elevation/lidar/county/wabasha/laz/4342-28-61.laz',\n",
    "    \"waba4\": 'https://resources.gisdata.mn.gov/pub/data/elevation/lidar/county/wabasha/laz/4342-28-62.laz',\n",
    "    \"waba5\": 'https://resources.gisdata.mn.gov/pub/data/elevation/lidar/county/wabasha/laz/4342-29-59.laz',\n",
    "    \"waba6\": 'https://resources.gisdata.mn.gov/pub/data/elevation/lidar/county/wabasha/laz/4342-29-60.laz',\n",
    "    \"waba7\": 'https://resources.gisdata.mn.gov/pub/data/elevation/lidar/county/wabasha/laz/4342-29-61.laz',\n",
    "    \"waba8\": 'https://resources.gisdata.mn.gov/pub/data/elevation/lidar/county/wabasha/laz/4342-29-62.laz'\n",
    "    \n",
    "}\n",
    "\n",
    "# for-loop goes thru and opens all dictionary items\n",
    "for key, url in laz_dict.items():\n",
    "    response = requests.get(url, stream = True)\n",
    "    \n",
    "    if response.status_code == 200:\n",
    "        # Save the data with the name of the dictionary key\n",
    "        with open(os.path.join(folder, f\"{key}.laz\"), \"wb\") as file:\n",
    "         file.write(response.content)\n",
    "        print(os.path.join(folder, f\"{key}.laz\"))\n",
    "    else:\n",
    "        print(f\"Failed to download data from {key}. Status code: {response.status_code}\")"
   ]
  },
  {
   "cell_type": "code",
   "execution_count": 35,
   "metadata": {},
   "outputs": [
    {
     "data": {
      "text/html": [
       "<div class='gpresult'><h2>Messages</h2><div id='messages' data-messages='[\"Start Time: Wednesday, December 6, 2023 3:07:49 PM\",\"Succeeded at Wednesday, December 6, 2023 3:09:00 PM (Elapsed Time: 1 minutes 10 seconds)\"]' data-show='true'><div id = 'default' /></div></div>"
      ],
      "text/plain": [
       "<Result ''>"
      ]
     },
     "execution_count": 35,
     "metadata": {},
     "output_type": "execute_result"
    }
   ],
   "source": [
    "# convert laz to las\n",
    "\n",
    "arcpy.conversion.ConvertLas(\n",
    "    in_las=r\"C:\\Users\\18284\\Documents\\ArcGIS\\Projects\\lab3\\arc1lab3\\laz\",\n",
    "    target_folder=r\"C:\\Users\\18284\\Documents\\ArcGIS\\Projects\\lab3\\arc1lab3\\las\",\n",
    "    file_version=\"SAME_AS_INPUT\",\n",
    "    point_format=\"\",\n",
    "    compression=\"NO_COMPRESSION\",\n",
    "    las_options=\"REARRANGE_POINTS\",\n",
    "    out_las_dataset=None,\n",
    "    define_coordinate_system=\"FILES_MISSING_PROJECTION\",\n",
    "    in_coordinate_system='PROJCS[\"datum_D_North_American_1983_HARN_UTM_Zone_15N\",GEOGCS[\"GCS_datum_D_North_American_1983_HARN\",DATUM[\"D_unknown\",SPHEROID[\"GRS_1980\",6378137.0,298.257222101]],PRIMEM[\"Greenwich\",0.0],UNIT[\"Degree\",0.0174532925199433]],PROJECTION[\"Transverse_Mercator\"],PARAMETER[\"false_easting\",500000.0],PARAMETER[\"false_northing\",0.0],PARAMETER[\"central_meridian\",-93.0],PARAMETER[\"scale_factor\",0.9996],PARAMETER[\"latitude_of_origin\",0.0],UNIT[\"Meter\",1.0]],VERTCS[\"NAVD88 - Geoid03 (Meters)\",VDATUM[\"unknown\"],PARAMETER[\"Vertical_Shift\",0.0],PARAMETER[\"Direction\",1.0],UNIT[\"Meter\",1.0]]'\n",
    ")"
   ]
  },
  {
   "cell_type": "code",
   "execution_count": 40,
   "metadata": {},
   "outputs": [
    {
     "data": {
      "text/html": [
       "<div class='gpresult'><h2>Messages</h2><div id='messages' data-messages='[\"Start Time: Wednesday, December 6, 2023 4:27:27 PM\",\"Succeeded at Wednesday, December 6, 2023 4:27:32 PM (Elapsed Time: 5.14 seconds)\"]' data-show='true'><div id = 'default' /></div></div>"
      ],
      "text/plain": [
       "<Result 'C:\\\\Users\\\\18284\\\\Documents\\\\ArcGIS\\\\Projects\\\\lab3\\\\arc1lab3\\\\wino8tif'>"
      ]
     },
     "execution_count": 40,
     "metadata": {},
     "output_type": "execute_result"
    }
   ],
   "source": [
    "# convert all las files to dem\n",
    "# pulled from lab2\n",
    "arcpy.conversion.LasDatasetToRaster(\n",
    "    in_las_dataset=\"waba1.las\",\n",
    "    out_raster=r\"C:\\Users\\18284\\Documents\\ArcGIS\\Projects\\lab3\\arc1lab3\\waba1tif\",\n",
    "    value_field=\"ELEVATION\",\n",
    "    interpolation_type=\"BINNING AVERAGE LINEAR\",\n",
    "    data_type=\"FLOAT\",\n",
    "    sampling_type=\"CELLSIZE\",\n",
    "    sampling_value=10,\n",
    "    z_factor=1\n",
    ")\n",
    "\n",
    "arcpy.conversion.LasDatasetToRaster(\n",
    "    in_las_dataset=\"waba2.las\",\n",
    "    out_raster=r\"C:\\Users\\18284\\Documents\\ArcGIS\\Projects\\lab3\\arc1lab3\\waba2tif\",\n",
    "    value_field=\"ELEVATION\",\n",
    "    interpolation_type=\"BINNING AVERAGE LINEAR\",\n",
    "    data_type=\"FLOAT\",\n",
    "    sampling_type=\"CELLSIZE\",\n",
    "    sampling_value=10,\n",
    "    z_factor=1\n",
    ")\n",
    "\n",
    "arcpy.conversion.LasDatasetToRaster(\n",
    "    in_las_dataset=\"waba3.las\",\n",
    "    out_raster=r\"C:\\Users\\18284\\Documents\\ArcGIS\\Projects\\lab3\\arc1lab3\\waba3tif\",\n",
    "    value_field=\"ELEVATION\",\n",
    "    interpolation_type=\"BINNING AVERAGE LINEAR\",\n",
    "    data_type=\"FLOAT\",\n",
    "    sampling_type=\"CELLSIZE\",\n",
    "    sampling_value=10,\n",
    "    z_factor=1\n",
    ")\n",
    "\n",
    "arcpy.conversion.LasDatasetToRaster(\n",
    "    in_las_dataset=\"waba4.las\",\n",
    "    out_raster=r\"C:\\Users\\18284\\Documents\\ArcGIS\\Projects\\lab3\\arc1lab3\\waba4tif\",\n",
    "    value_field=\"ELEVATION\",\n",
    "    interpolation_type=\"BINNING AVERAGE LINEAR\",\n",
    "    data_type=\"FLOAT\",\n",
    "    sampling_type=\"CELLSIZE\",\n",
    "    sampling_value=10,\n",
    "    z_factor=1\n",
    ")\n",
    "\n",
    "arcpy.conversion.LasDatasetToRaster(\n",
    "    in_las_dataset=\"waba5.las\",\n",
    "    out_raster=r\"C:\\Users\\18284\\Documents\\ArcGIS\\Projects\\lab3\\arc1lab3\\waba5tif\",\n",
    "    value_field=\"ELEVATION\",\n",
    "    interpolation_type=\"BINNING AVERAGE LINEAR\",\n",
    "    data_type=\"FLOAT\",\n",
    "    sampling_type=\"CELLSIZE\",\n",
    "    sampling_value=10,\n",
    "    z_factor=1\n",
    ")\n",
    "\n",
    "arcpy.conversion.LasDatasetToRaster(\n",
    "    in_las_dataset=\"waba6.las\",\n",
    "    out_raster=r\"C:\\Users\\18284\\Documents\\ArcGIS\\Projects\\lab3\\arc1lab3\\waba6tif\",\n",
    "    value_field=\"ELEVATION\",\n",
    "    interpolation_type=\"BINNING AVERAGE LINEAR\",\n",
    "    data_type=\"FLOAT\",\n",
    "    sampling_type=\"CELLSIZE\",\n",
    "    sampling_value=10,\n",
    "    z_factor=1\n",
    ")\n",
    "\n",
    "arcpy.conversion.LasDatasetToRaster(\n",
    "    in_las_dataset=\"waba7.las\",\n",
    "    out_raster=r\"C:\\Users\\18284\\Documents\\ArcGIS\\Projects\\lab3\\arc1lab3\\waba7tif\",\n",
    "    value_field=\"ELEVATION\",\n",
    "    interpolation_type=\"BINNING AVERAGE LINEAR\",\n",
    "    data_type=\"FLOAT\",\n",
    "    sampling_type=\"CELLSIZE\",\n",
    "    sampling_value=10,\n",
    "    z_factor=1\n",
    ")\n",
    "\n",
    "arcpy.conversion.LasDatasetToRaster(\n",
    "    in_las_dataset=\"waba8.las\",\n",
    "    out_raster=r\"C:\\Users\\18284\\Documents\\ArcGIS\\Projects\\lab3\\arc1lab3\\waba8tif\",\n",
    "    value_field=\"ELEVATION\",\n",
    "    interpolation_type=\"BINNING AVERAGE LINEAR\",\n",
    "    data_type=\"FLOAT\",\n",
    "    sampling_type=\"CELLSIZE\",\n",
    "    sampling_value=10,\n",
    "    z_factor=1\n",
    ")\n",
    "\n",
    "arcpy.conversion.LasDatasetToRaster(\n",
    "    in_las_dataset=\"wino1.las\",\n",
    "    out_raster=r\"C:\\Users\\18284\\Documents\\ArcGIS\\Projects\\lab3\\arc1lab3\\wino1tif\",\n",
    "    value_field=\"ELEVATION\",\n",
    "    interpolation_type=\"BINNING AVERAGE LINEAR\",\n",
    "    data_type=\"FLOAT\",\n",
    "    sampling_type=\"CELLSIZE\",\n",
    "    sampling_value=10,\n",
    "    z_factor=1\n",
    ")\n",
    "\n",
    "arcpy.conversion.LasDatasetToRaster(\n",
    "    in_las_dataset=\"wino2.las\",\n",
    "    out_raster=r\"C:\\Users\\18284\\Documents\\ArcGIS\\Projects\\lab3\\arc1lab3\\wino2tif\",\n",
    "    value_field=\"ELEVATION\",\n",
    "    interpolation_type=\"BINNING AVERAGE LINEAR\",\n",
    "    data_type=\"FLOAT\",\n",
    "    sampling_type=\"CELLSIZE\",\n",
    "    sampling_value=10,\n",
    "    z_factor=1\n",
    ")\n",
    "\n",
    "arcpy.conversion.LasDatasetToRaster(\n",
    "    in_las_dataset=\"wino3.las\",\n",
    "    out_raster=r\"C:\\Users\\18284\\Documents\\ArcGIS\\Projects\\lab3\\arc1lab3\\wino3tif\",\n",
    "    value_field=\"ELEVATION\",\n",
    "    interpolation_type=\"BINNING AVERAGE LINEAR\",\n",
    "    data_type=\"FLOAT\",\n",
    "    sampling_type=\"CELLSIZE\",\n",
    "    sampling_value=10,\n",
    "    z_factor=1\n",
    ")\n",
    "\n",
    "arcpy.conversion.LasDatasetToRaster(\n",
    "    in_las_dataset=\"wino4.las\",\n",
    "    out_raster=r\"C:\\Users\\18284\\Documents\\ArcGIS\\Projects\\lab3\\arc1lab3\\wino4tif\",\n",
    "    value_field=\"ELEVATION\",\n",
    "    interpolation_type=\"BINNING AVERAGE LINEAR\",\n",
    "    data_type=\"FLOAT\",\n",
    "    sampling_type=\"CELLSIZE\",\n",
    "    sampling_value=10,\n",
    "    z_factor=1\n",
    ")\n",
    "\n",
    "arcpy.conversion.LasDatasetToRaster(\n",
    "    in_las_dataset=\"wino5.las\",\n",
    "    out_raster=r\"C:\\Users\\18284\\Documents\\ArcGIS\\Projects\\lab3\\arc1lab3\\wino5tif\",\n",
    "    value_field=\"ELEVATION\",\n",
    "    interpolation_type=\"BINNING AVERAGE LINEAR\",\n",
    "    data_type=\"FLOAT\",\n",
    "    sampling_type=\"CELLSIZE\",\n",
    "    sampling_value=10,\n",
    "    z_factor=1\n",
    ")\n",
    "\n",
    "arcpy.conversion.LasDatasetToRaster(\n",
    "    in_las_dataset=\"wino6.las\",\n",
    "    out_raster=r\"C:\\Users\\18284\\Documents\\ArcGIS\\Projects\\lab3\\arc1lab3\\wino6tif\",\n",
    "    value_field=\"ELEVATION\",\n",
    "    interpolation_type=\"BINNING AVERAGE LINEAR\",\n",
    "    data_type=\"FLOAT\",\n",
    "    sampling_type=\"CELLSIZE\",\n",
    "    sampling_value=10,\n",
    "    z_factor=1\n",
    ")\n",
    "\n",
    "arcpy.conversion.LasDatasetToRaster(\n",
    "    in_las_dataset=\"wino7.las\",\n",
    "    out_raster=r\"C:\\Users\\18284\\Documents\\ArcGIS\\Projects\\lab3\\arc1lab3\\wino7tif\",\n",
    "    value_field=\"ELEVATION\",\n",
    "    interpolation_type=\"BINNING AVERAGE LINEAR\",\n",
    "    data_type=\"FLOAT\",\n",
    "    sampling_type=\"CELLSIZE\",\n",
    "    sampling_value=10,\n",
    "    z_factor=1\n",
    ")\n",
    "\n",
    "arcpy.conversion.LasDatasetToRaster(\n",
    "    in_las_dataset=\"wino8.las\",\n",
    "    out_raster=r\"C:\\Users\\18284\\Documents\\ArcGIS\\Projects\\lab3\\arc1lab3\\wino8tif\",\n",
    "    value_field=\"ELEVATION\",\n",
    "    interpolation_type=\"BINNING AVERAGE LINEAR\",\n",
    "    data_type=\"FLOAT\",\n",
    "    sampling_type=\"CELLSIZE\",\n",
    "    sampling_value=10,\n",
    "    z_factor=1\n",
    ")\n"
   ]
  },
  {
   "cell_type": "code",
   "execution_count": 41,
   "metadata": {},
   "outputs": [
    {
     "data": {
      "text/html": [
       "<div class='gpresult'><h2>Messages</h2><div id='messages' data-messages='[\"Start Time: Wednesday, December 6, 2023 4:30:53 PM\",\"Building Pyramids...\",\"Succeeded at Wednesday, December 6, 2023 4:30:58 PM (Elapsed Time: 4.69 seconds)\"]' data-show='true'><div id = 'default' /></div></div>"
      ],
      "text/plain": [
       "<Result 'C:\\\\Users\\\\18284\\\\Documents\\\\ArcGIS\\\\Projects\\\\lab3\\\\arc1lab3\\\\interestarea1'>"
      ]
     },
     "execution_count": 41,
     "metadata": {},
     "output_type": "execute_result"
    }
   ],
   "source": [
    "# merge tifs into one raster\n",
    "\n",
    "arcpy.management.MosaicToNewRaster(\n",
    "    input_rasters=\"wino8tif;wino7tif;wino6tif;wino5tif;wino4tif;wino3tif;wino2tif;wino1tif;waba8tif;waba7tif;waba6tif;waba5tif;waba4tif;waba3tif;waba2tif;waba1tif\",\n",
    "    output_location=r\"C:\\Users\\18284\\Documents\\ArcGIS\\Projects\\lab3\\arc1lab3\",\n",
    "    raster_dataset_name_with_extension=\"interestarea1\",\n",
    "    coordinate_system_for_the_raster='PROJCS[\"datum_D_North_American_1983_HARN_UTM_Zone_15N\",GEOGCS[\"GCS_datum_D_North_American_1983_HARN\",DATUM[\"D_unknown\",SPHEROID[\"GRS_1980\",6378137.0,298.257222101]],PRIMEM[\"Greenwich\",0.0],UNIT[\"Degree\",0.0174532925199433]],PROJECTION[\"Transverse_Mercator\"],PARAMETER[\"false_easting\",500000.0],PARAMETER[\"false_northing\",0.0],PARAMETER[\"central_meridian\",-93.0],PARAMETER[\"scale_factor\",0.9996],PARAMETER[\"latitude_of_origin\",0.0],UNIT[\"Meter\",1.0]],VERTCS[\"NAVD88 - Geoid03 (Meters)\",VDATUM[\"unknown\"],PARAMETER[\"Vertical_Shift\",0.0],PARAMETER[\"Direction\",1.0],UNIT[\"Meter\",1.0]]',\n",
    "    pixel_type=\"8_BIT_UNSIGNED\",\n",
    "    cellsize=None,\n",
    "    number_of_bands=1,\n",
    "    mosaic_method=\"LAST\",\n",
    "    mosaic_colormap_mode=\"FIRST\"\n",
    ")"
   ]
  },
  {
   "cell_type": "code",
   "execution_count": 43,
   "metadata": {},
   "outputs": [],
   "source": [
    "# create dory's starting point\n",
    "\n",
    "# create feature class\n",
    "\n",
    "feature_class_path = arcpy.management.CreateFeatureclass(\n",
    "    out_path=r\"C:\\Users\\18284\\Documents\\ArcGIS\\Projects\\lab3\\lab3.gdb\",\n",
    "    out_name=\"dory_start\",\n",
    "    geometry_type=\"POINT\",\n",
    "    template=None,\n",
    "    has_m=\"DISABLED\",\n",
    "    has_z=\"DISABLED\",\n",
    "    spatial_reference='GEOGCS[\"GCS_North_American_1983\",DATUM[\"D_North_American_1983\",SPHEROID[\"GRS_1980\",6378137.0,298.257222101]],PRIMEM[\"Greenwich\",0.0],UNIT[\"Degree\",0.0174532925199433]],VERTCS[\"NAVD88 - Geoid03 (Meters)\",VDATUM[\"unknown\"],PARAMETER[\"Vertical_Shift\",0.0],PARAMETER[\"Direction\",1.0],UNIT[\"Meter\",1.0]];-400 -400 1000000000;-100000 10000;-100000 10000;8.98315284119521E-09;0.001;0.001;IsHighPrecision',\n",
    "    config_keyword=\"\",\n",
    "    spatial_grid_1=0,\n",
    "    spatial_grid_2=0,\n",
    "    spatial_grid_3=0,\n",
    "    out_alias=\"\"\n",
    ")\n",
    "\n",
    "# create point\n",
    "\n",
    "latitude = 44.127985  \n",
    "longitude = -92.148796\n",
    "\n",
    "point = arcpy.Point(longitude, latitude)\n",
    "\n",
    "# insert the point into the feature class\n",
    "\n",
    "with arcpy.da.InsertCursor(feature_class_path, [\"SHAPE@\"]) as cursor:\n",
    "    cursor.insertRow([point])\n"
   ]
  },
  {
   "cell_type": "code",
   "execution_count": 44,
   "metadata": {},
   "outputs": [],
   "source": [
    "# create dory's destination\n",
    "\n",
    "# create feature class\n",
    "\n",
    "feature_class_path = arcpy.management.CreateFeatureclass(\n",
    "    out_path=r\"C:\\Users\\18284\\Documents\\ArcGIS\\Projects\\lab3\\lab3.gdb\",\n",
    "    out_name=\"dory_end\",\n",
    "    geometry_type=\"POINT\",\n",
    "    template=None,\n",
    "    has_m=\"DISABLED\",\n",
    "    has_z=\"DISABLED\",\n",
    "    spatial_reference='GEOGCS[\"GCS_North_American_1983\",DATUM[\"D_North_American_1983\",SPHEROID[\"GRS_1980\",6378137.0,298.257222101]],PRIMEM[\"Greenwich\",0.0],UNIT[\"Degree\",0.0174532925199433]],VERTCS[\"NAVD88 - Geoid03 (Meters)\",VDATUM[\"unknown\"],PARAMETER[\"Vertical_Shift\",0.0],PARAMETER[\"Direction\",1.0],UNIT[\"Meter\",1.0]];-400 -400 1000000000;-100000 10000;-100000 10000;8.98315284119521E-09;0.001;0.001;IsHighPrecision',\n",
    "    config_keyword=\"\",\n",
    "    spatial_grid_1=0,\n",
    "    spatial_grid_2=0,\n",
    "    spatial_grid_3=0,\n",
    "    out_alias=\"\"\n",
    ")\n",
    "\n",
    "# create point\n",
    "\n",
    "latitude = 44.0626553  \n",
    "longitude = -92.044557\n",
    "\n",
    "point = arcpy.Point(longitude, latitude)\n",
    "\n",
    "# insert the point into the feature class\n",
    "\n",
    "with arcpy.da.InsertCursor(feature_class_path, [\"SHAPE@\"]) as cursor:\n",
    "    cursor.insertRow([point])\n"
   ]
  },
  {
   "cell_type": "code",
   "execution_count": 48,
   "metadata": {},
   "outputs": [
    {
     "data": {
      "text/html": [
       "<div class='gpresult'><h2>Messages</h2><div id='messages' data-messages='[\"Start Time: Wednesday, December 6, 2023 5:45:00 PM\",\"Succeeded at Wednesday, December 6, 2023 5:45:03 PM (Elapsed Time: 2.81 seconds)\"]' data-show='true'><div id = 'default' /></div></div>"
      ],
      "text/plain": [
       "<Result 'C:\\\\Users\\\\18284\\\\Documents\\\\ArcGIS\\\\Projects\\\\lab3\\\\lab3.gdb\\\\dory_points'>"
      ]
     },
     "execution_count": 48,
     "metadata": {},
     "output_type": "execute_result"
    }
   ],
   "source": [
    "# merge dory start and end \n",
    "\n",
    "arcpy.management.Merge(\n",
    "    inputs=\"dory_end;dory_start\",\n",
    "    output=r\"C:\\Users\\18284\\Documents\\ArcGIS\\Projects\\lab3\\lab3.gdb\\dory_points\",\n",
    "    field_mappings=None,\n",
    "    add_source=\"NO_SOURCE_INFO\"\n",
    ")"
   ]
  },
  {
   "cell_type": "code",
   "execution_count": 45,
   "metadata": {},
   "outputs": [],
   "source": [
    "# fill dem\n",
    "\n",
    "out_surface_raster = arcpy.sa.Fill(\n",
    "    in_surface_raster=\"interestarea1\",\n",
    "    z_limit=None\n",
    ")\n",
    "out_surface_raster.save(r\"C:\\Users\\18284\\Documents\\ArcGIS\\Projects\\lab3\\arc1lab3\\filled_dem\")"
   ]
  },
  {
   "cell_type": "code",
   "execution_count": 46,
   "metadata": {},
   "outputs": [
    {
     "data": {
      "text/html": [
       "<div class='gpresult'><h2>Messages</h2><div id='messages' data-messages='[\"Start Time: Wednesday, December 6, 2023 4:51:53 PM\",\"No compatible GPU device has been detected.\",\"Succeeded at Wednesday, December 6, 2023 4:51:56 PM (Elapsed Time: 2.87 seconds)\"]' data-show='true'><div id = 'default' /></div></div>"
      ],
      "text/plain": [
       "<Result 'C:\\\\Users\\\\18284\\\\Documents\\\\ArcGIS\\\\Projects\\\\lab3\\\\lab3.gdb\\\\Slope_filled1'>"
      ]
     },
     "execution_count": 46,
     "metadata": {},
     "output_type": "execute_result"
    }
   ],
   "source": [
    "# calculate slope\n",
    "\n",
    "arcpy.ddd.Slope(\n",
    "    in_raster=\"out_surface_raster\",\n",
    "    out_raster=r\"C:\\Users\\18284\\Documents\\ArcGIS\\Projects\\lab3\\lab3.gdb\\Slope_filled1\",\n",
    "    output_measurement=\"DEGREE\",\n",
    "    z_factor=1,\n",
    "    method=\"PLANAR\",\n",
    "    z_unit=\"METER\",\n",
    "    analysis_target_device=\"GPU_THEN_CPU\"\n",
    ")"
   ]
  },
  {
   "cell_type": "code",
   "execution_count": 47,
   "metadata": {},
   "outputs": [
    {
     "data": {
      "text/html": [
       "<div class='gpresult'><h2>Messages</h2><div id='messages' data-messages='[\"Start Time: Wednesday, December 6, 2023 4:53:18 PM\",\"Succeeded at Wednesday, December 6, 2023 4:53:20 PM (Elapsed Time: 2.41 seconds)\"]' data-show='true'><div id = 'default' /></div></div>"
      ],
      "text/plain": [
       "<Result 'C:\\\\Users\\\\18284\\\\Documents\\\\ArcGIS\\\\Projects\\\\lab3\\\\lab3.gdb\\\\slope_class'>"
      ]
     },
     "execution_count": 47,
     "metadata": {},
     "output_type": "execute_result"
    }
   ],
   "source": [
    "# reclassify slope raster to integer classes\n",
    "\n",
    "arcpy.ddd.Reclassify(\n",
    "    in_raster=\"Slope_filled1\",\n",
    "    reclass_field=\"VALUE\",\n",
    "    remap=\"0 1.720000 1;1.720000 3.430000 2;3.430000 5.710000 3;5.710000 8.530000 4;8.530000 11.300000 5;11.300000 14.040000 6;14.040000 16.700000 7;16.700000 21.800000 8;21.800000 30.960000 9;30.960000 45 10;45 90 11\",\n",
    "    out_raster=r\"C:\\Users\\18284\\Documents\\ArcGIS\\Projects\\lab3\\lab3.gdb\\slope_class\",\n",
    "    missing_values=\"DATA\"\n",
    ")"
   ]
  },
  {
   "cell_type": "code",
   "execution_count": 3,
   "metadata": {},
   "outputs": [],
   "source": [
    "# create cost-distance\n",
    "# note: I tried doing this with the connect optimal regions tool and for whatever reason,\n",
    "# running that tool instantly hard-crashes arcpro for me, like submit-email-incident-report\n",
    "# crashes immediately. im not sure why that is but im behind enough on this and so i'm just\n",
    "# doing it the way I did it in lab2. sorry :<\n",
    "\n",
    "out_distance_raster = arcpy.sa.CostDistance(\n",
    "    in_source_data=\"dory_start\",\n",
    "    in_cost_raster=\"slope_class\",\n",
    "    maximum_distance=None,\n",
    "    out_backlink_raster=None,\n",
    "    source_cost_multiplier=None,\n",
    "    source_start_cost=None,\n",
    "    source_resistance_rate=None,\n",
    "    source_capacity=None,\n",
    "    source_direction=\"\"\n",
    ")\n",
    "out_distance_raster.save(r\"C:\\Users\\18284\\Documents\\ArcGIS\\Projects\\lab3\\lab3.gdb\\CostDis_dory1\")"
   ]
  },
  {
   "cell_type": "code",
   "execution_count": 1,
   "metadata": {},
   "outputs": [],
   "source": [
    "# create backlink raster\n",
    "\n",
    "out_backlink_raster = arcpy.sa.CostBackLink(\n",
    "    in_source_data=\"dory_start\",\n",
    "    in_cost_raster=\"slope_class\",\n",
    "    maximum_distance=None,\n",
    "    out_distance_raster=None,\n",
    "    source_cost_multiplier=None,\n",
    "    source_start_cost=None,\n",
    "    source_resistance_rate=None,\n",
    "    source_capacity=None,\n",
    "    source_direction=\"\"\n",
    ")\n",
    "out_backlink_raster.save(r\"C:\\Users\\18284\\Documents\\ArcGIS\\Projects\\lab3\\lab3.gdb\\CostBac_dory1\")"
   ]
  },
  {
   "cell_type": "code",
   "execution_count": 4,
   "metadata": {},
   "outputs": [],
   "source": [
    "# conduct cost-path\n",
    "\n",
    "out_raster = arcpy.sa.CostPath(\n",
    "    in_destination_data=\"dory_end\",\n",
    "    in_cost_distance_raster=\"out_distance_raster\",\n",
    "    in_cost_backlink_raster=\"out_backlink_raster\",\n",
    "    path_type=\"EACH_CELL\",\n",
    "    destination_field=\"OBJECTID\",\n",
    "    force_flow_direction_convention=\"INPUT_RANGE\"\n",
    ")\n",
    "out_raster.save(r\"C:\\Users\\18284\\Documents\\ArcGIS\\Projects\\lab3\\lab3.gdb\\dorypath1\")"
   ]
  },
  {
   "cell_type": "code",
   "execution_count": 5,
   "metadata": {},
   "outputs": [
    {
     "data": {
      "text/html": [
       "<div class='gpresult'><h2>Messages</h2><div id='messages' data-messages='[\"Start Time: Wednesday, December 6, 2023 6:12:07 PM\",\"Succeeded at Wednesday, December 6, 2023 6:12:08 PM (Elapsed Time: 1.75 seconds)\"]' data-show='true'><div id = 'default' /></div></div>"
      ],
      "text/plain": [
       "<Result 'C:\\\\Users\\\\18284\\\\Documents\\\\ArcGIS\\\\Projects\\\\lab3\\\\lab3.gdb\\\\landcover_landsat_tm_19_Clip_PolygonToRaster'>"
      ]
     },
     "execution_count": 5,
     "metadata": {},
     "output_type": "execute_result"
    }
   ],
   "source": [
    "# turn land use polygon to raster\n",
    "\n",
    "arcpy.conversion.PolygonToRaster(\n",
    "    in_features=\"landcover_landsat_tm_19_Clip\",\n",
    "    value_field=\"XLUSE_CODE\",\n",
    "    out_rasterdataset=r\"C:\\Users\\18284\\Documents\\ArcGIS\\Projects\\lab3\\lab3.gdb\\landcover_landsat_tm_19_Clip_PolygonToRaster\",\n",
    "    cell_assignment=\"CELL_CENTER\",\n",
    "    priority_field=\"NONE\",\n",
    "    cellsize=280,\n",
    "    build_rat=\"BUILD\"\n",
    ")"
   ]
  },
  {
   "cell_type": "code",
   "execution_count": 6,
   "metadata": {},
   "outputs": [
    {
     "data": {
      "text/html": [
       "<div class='gpresult'><h2>Messages</h2><div id='messages' data-messages='[\"Start Time: Wednesday, December 6, 2023 6:16:08 PM\",\"Succeeded at Wednesday, December 6, 2023 6:16:09 PM (Elapsed Time: 1.28 seconds)\"]' data-show='true'><div id = 'default' /></div></div>"
      ],
      "text/plain": [
       "<Result 'C:\\\\Users\\\\18284\\\\Documents\\\\ArcGIS\\\\Projects\\\\lab3\\\\lab3.gdb\\\\Reclass_landcover1'>"
      ]
     },
     "execution_count": 6,
     "metadata": {},
     "output_type": "execute_result"
    }
   ],
   "source": [
    "# reclassify landuse bc there are too many classes \n",
    "# combine cultivated land class with farmsteads and rural residences\n",
    "\n",
    "arcpy.ddd.Reclassify(\n",
    "    in_raster=\"landcoverInterest.tif\",\n",
    "    reclass_field=\"XLUSE_CODE\",\n",
    "    remap=\"'Deciduous Forest' 1;Grassland 2;'Cultivated Land' 3;'Farmsteads and Rural Residences' 3;'Urban and Industrial' 4;'Other Rural Developments' 5;'Grassland-Shrub-Tree (deciduous)' 6;Water 7;'Gravel Pits and Open Mines' 8;Wetlands 10;' ' 11\",\n",
    "    out_raster=r\"C:\\Users\\18284\\Documents\\ArcGIS\\Projects\\lab3\\lab3.gdb\\Reclass_landcover1\",\n",
    "    missing_values=\"DATA\"\n",
    ")"
   ]
  },
  {
   "cell_type": "code",
   "execution_count": 7,
   "metadata": {},
   "outputs": [],
   "source": [
    "# weight the relevant variables appropriately \n",
    "# this version weighs slope and landuse factors evenly, 50-50\n",
    "\n",
    "out_raster = arcpy.sa.WeightedOverlay(\n",
    "    in_weighted_overlay_table=r\"('C:\\Users\\18284\\Documents\\ArcGIS\\Projects\\lab3\\lab3.gdb\\Reclass_landcover1' 50 'Value' (1 9; 2 9; 3 1; 4 9; 5 2; 6 9; 7 3; 8 9; 10 9; 11 9; NODATA NODATA); 'C:\\Users\\18284\\Documents\\ArcGIS\\Projects\\arc1lab2\\arc1lab2.gdb\\slope_class' 50 'Value' (1 9; 2 8; 3 7; 4 6; 5 5; 6 4; 7 3; 8 2; 9 1; 10 1; 11 1; NODATA NODATA));1 9 1\"\n",
    ")\n",
    "out_raster.save(r\"C:\\Users\\18284\\Documents\\ArcGIS\\Projects\\lab3\\lab3.gdb\\Weighte_Recl1\")"
   ]
  },
  {
   "cell_type": "code",
   "execution_count": 8,
   "metadata": {},
   "outputs": [],
   "source": [
    "# cost distance with weights v1\n",
    "\n",
    "out_distance_raster = arcpy.sa.CostDistance(\n",
    "    in_source_data=\"dory_start\",\n",
    "    in_cost_raster=\"out_raster\",\n",
    "    maximum_distance=None,\n",
    "    out_backlink_raster=None,\n",
    "    source_cost_multiplier=None,\n",
    "    source_start_cost=None,\n",
    "    source_resistance_rate=None,\n",
    "    source_capacity=None,\n",
    "    source_direction=\"\"\n",
    ")\n",
    "out_distance_raster.save(r\"C:\\Users\\18284\\Documents\\ArcGIS\\Projects\\lab3\\lab3.gdb\\CostDis_dory2\")"
   ]
  },
  {
   "cell_type": "code",
   "execution_count": 9,
   "metadata": {},
   "outputs": [],
   "source": [
    "# cost backlink with weights v1\n",
    "\n",
    "out_backlink_raster = arcpy.sa.CostBackLink(\n",
    "    in_source_data=\"dory_start\",\n",
    "    in_cost_raster=\"out_raster\",\n",
    "    maximum_distance=None,\n",
    "    out_distance_raster=None,\n",
    "    source_cost_multiplier=None,\n",
    "    source_start_cost=None,\n",
    "    source_resistance_rate=None,\n",
    "    source_capacity=None,\n",
    "    source_direction=\"\"\n",
    ")\n",
    "out_backlink_raster.save(r\"C:\\Users\\18284\\Documents\\ArcGIS\\Projects\\lab3\\lab3.gdb\\CostBac_dory2\")"
   ]
  },
  {
   "cell_type": "code",
   "execution_count": 10,
   "metadata": {},
   "outputs": [],
   "source": [
    "# cost_path weighted v1\n",
    "\n",
    "out_raster = arcpy.sa.CostPath(\n",
    "    in_destination_data=\"dory_end\",\n",
    "    in_cost_distance_raster=\"out_distance_raster\",\n",
    "    in_cost_backlink_raster=\"out_backlink_raster\",\n",
    "    path_type=\"EACH_CELL\",\n",
    "    destination_field=\"OBJECTID\",\n",
    "    force_flow_direction_convention=\"INPUT_RANGE\"\n",
    ")\n",
    "out_raster.save(r\"C:\\Users\\18284\\Documents\\ArcGIS\\Projects\\lab3\\lab3.gdb\\CostPat_dory1\")"
   ]
  },
  {
   "cell_type": "code",
   "execution_count": 12,
   "metadata": {},
   "outputs": [],
   "source": [
    "# weight the relevant variables appropriately \n",
    "# this version weighs slope more heavily than land-use, 80-20\n",
    "\n",
    "out_raster2 = arcpy.sa.WeightedOverlay(\n",
    "    in_weighted_overlay_table=r\"('C:\\Users\\18284\\Documents\\ArcGIS\\Projects\\lab3\\lab3.gdb\\Reclass_landcover1' 80 'Value' (1 9; 2 9; 3 1; 4 9; 5 2; 6 9; 7 3; 8 9; 10 9; 11 9; NODATA NODATA); 'C:\\Users\\18284\\Documents\\ArcGIS\\Projects\\arc1lab2\\arc1lab2.gdb\\slope_class' 20 'Value' (1 9; 2 8; 3 7; 4 6; 5 5; 6 4; 7 3; 8 2; 9 1; 10 1; 11 1; NODATA NODATA));1 9 1\"\n",
    ")\n",
    "out_raster2.save(r\"C:\\Users\\18284\\Documents\\ArcGIS\\Projects\\lab3\\lab3.gdb\\Weighte_Recl2\")"
   ]
  },
  {
   "cell_type": "code",
   "execution_count": 13,
   "metadata": {},
   "outputs": [],
   "source": [
    "# cost distance with weights v2\n",
    "\n",
    "out_distance_raster2 = arcpy.sa.CostDistance(\n",
    "    in_source_data=\"dory_start\",\n",
    "    in_cost_raster=\"out_raster2\",\n",
    "    maximum_distance=None,\n",
    "    out_backlink_raster=None,\n",
    "    source_cost_multiplier=None,\n",
    "    source_start_cost=None,\n",
    "    source_resistance_rate=None,\n",
    "    source_capacity=None,\n",
    "    source_direction=\"\"\n",
    ")\n",
    "out_distance_raster2.save(r\"C:\\Users\\18284\\Documents\\ArcGIS\\Projects\\lab3\\lab3.gdb\\CostDis_dory3\")"
   ]
  },
  {
   "cell_type": "code",
   "execution_count": 14,
   "metadata": {},
   "outputs": [],
   "source": [
    "# cost backlink with weights v2\n",
    "\n",
    "out_backlink_raster2 = arcpy.sa.CostBackLink(\n",
    "    in_source_data=\"dory_start\",\n",
    "    in_cost_raster=\"out_raster2\",\n",
    "    maximum_distance=None,\n",
    "    out_distance_raster=None,\n",
    "    source_cost_multiplier=None,\n",
    "    source_start_cost=None,\n",
    "    source_resistance_rate=None,\n",
    "    source_capacity=None,\n",
    "    source_direction=\"\"\n",
    ")\n",
    "out_backlink_raster2.save(r\"C:\\Users\\18284\\Documents\\ArcGIS\\Projects\\lab3\\lab3.gdb\\CostBac_dory3\")"
   ]
  },
  {
   "cell_type": "code",
   "execution_count": 15,
   "metadata": {},
   "outputs": [],
   "source": [
    "# cost_path weighted v2\n",
    "\n",
    "out_raster2 = arcpy.sa.CostPath(\n",
    "    in_destination_data=\"dory_end\",\n",
    "    in_cost_distance_raster=\"out_distance_raster2\",\n",
    "    in_cost_backlink_raster=\"out_backlink_raster2\",\n",
    "    path_type=\"EACH_CELL\",\n",
    "    destination_field=\"OBJECTID\",\n",
    "    force_flow_direction_convention=\"INPUT_RANGE\"\n",
    ")\n",
    "out_raster2.save(r\"C:\\Users\\18284\\Documents\\ArcGIS\\Projects\\lab3\\lab3.gdb\\CostPat_dory2\")"
   ]
  },
  {
   "cell_type": "code",
   "execution_count": 16,
   "metadata": {},
   "outputs": [],
   "source": [
    "# weight the relevant variables appropriately \n",
    "# this version weighs land-use more heavily than slope, 80-20\n",
    "\n",
    "out_raster3 = arcpy.sa.WeightedOverlay(\n",
    "    in_weighted_overlay_table=r\"('C:\\Users\\18284\\Documents\\ArcGIS\\Projects\\lab3\\lab3.gdb\\Reclass_landcover1' 20 'Value' (1 9; 2 9; 3 1; 4 9; 5 2; 6 9; 7 3; 8 9; 10 9; 11 9; NODATA NODATA); 'C:\\Users\\18284\\Documents\\ArcGIS\\Projects\\arc1lab2\\arc1lab2.gdb\\slope_class' 80 'Value' (1 9; 2 8; 3 7; 4 6; 5 5; 6 4; 7 3; 8 2; 9 1; 10 1; 11 1; NODATA NODATA));1 9 1\"\n",
    ")\n",
    "out_raster3.save(r\"C:\\Users\\18284\\Documents\\ArcGIS\\Projects\\lab3\\lab3.gdb\\Weighte_Recl3\")"
   ]
  },
  {
   "cell_type": "code",
   "execution_count": 17,
   "metadata": {},
   "outputs": [],
   "source": [
    "# cost distance with weights v3\n",
    "\n",
    "out_distance_raster3 = arcpy.sa.CostDistance(\n",
    "    in_source_data=\"dory_start\",\n",
    "    in_cost_raster=\"out_raster3\",\n",
    "    maximum_distance=None,\n",
    "    out_backlink_raster=None,\n",
    "    source_cost_multiplier=None,\n",
    "    source_start_cost=None,\n",
    "    source_resistance_rate=None,\n",
    "    source_capacity=None,\n",
    "    source_direction=\"\"\n",
    ")\n",
    "out_distance_raster3.save(r\"C:\\Users\\18284\\Documents\\ArcGIS\\Projects\\lab3\\lab3.gdb\\CostDis_dory4\")"
   ]
  },
  {
   "cell_type": "code",
   "execution_count": 18,
   "metadata": {},
   "outputs": [],
   "source": [
    "# cost backlink with weights v3\n",
    "\n",
    "out_backlink_raster3 = arcpy.sa.CostBackLink(\n",
    "    in_source_data=\"dory_start\",\n",
    "    in_cost_raster=\"out_raster3\",\n",
    "    maximum_distance=None,\n",
    "    out_distance_raster=None,\n",
    "    source_cost_multiplier=None,\n",
    "    source_start_cost=None,\n",
    "    source_resistance_rate=None,\n",
    "    source_capacity=None,\n",
    "    source_direction=\"\"\n",
    ")\n",
    "out_backlink_raster3.save(r\"C:\\Users\\18284\\Documents\\ArcGIS\\Projects\\lab3\\lab3.gdb\\CostBac_dory4\")"
   ]
  },
  {
   "cell_type": "code",
   "execution_count": 19,
   "metadata": {},
   "outputs": [],
   "source": [
    "# cost_path weighted v3\n",
    "\n",
    "out_raster3 = arcpy.sa.CostPath(\n",
    "    in_destination_data=\"dory_end\",\n",
    "    in_cost_distance_raster=\"out_distance_raster3\",\n",
    "    in_cost_backlink_raster=\"out_backlink_raster3\",\n",
    "    path_type=\"EACH_CELL\",\n",
    "    destination_field=\"OBJECTID\",\n",
    "    force_flow_direction_convention=\"INPUT_RANGE\"\n",
    ")\n",
    "out_raster3.save(r\"C:\\Users\\18284\\Documents\\ArcGIS\\Projects\\lab3\\lab3.gdb\\CostPat_dory3\")"
   ]
  },
  {
   "cell_type": "code",
   "execution_count": null,
   "metadata": {},
   "outputs": [],
   "source": []
  }
 ],
 "metadata": {
  "kernelspec": {
   "display_name": "ArcGISPro",
   "language": "Python",
   "name": "python3"
  },
  "language_info": {
   "file_extension": ".py",
   "name": "python",
   "version": "3"
  }
 },
 "nbformat": 4,
 "nbformat_minor": 2
}
