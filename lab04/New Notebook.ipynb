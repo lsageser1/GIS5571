{
 "cells": [
  {
   "cell_type": "code",
   "execution_count": 8,
   "metadata": {},
   "outputs": [],
   "source": [
    "# import packages\n",
    "\n",
    "import requests\n",
    "import zipfile\n",
    "import arcpy\n",
    "import pprint\n",
    "import json\n",
    "import os\n",
    "import csv\n",
    "from io import BytesIO\n",
    "import shutil\n",
    "import arcpy.mp as mp\n",
    "import numpy as np"
   ]
  },
  {
   "cell_type": "code",
   "execution_count": 2,
   "metadata": {},
   "outputs": [
    {
     "name": "stderr",
     "output_type": "stream",
     "text": [
      "C:\\Program Files\\ArcGIS\\Pro\\bin\\Python\\envs\\arcgispro-py3\\lib\\site-packages\\urllib3\\connectionpool.py:1045: InsecureRequestWarning: Unverified HTTPS request is being made to host 'gisdata.mn.gov'. Adding certificate verification is strongly advised. See: https://urllib3.readthedocs.io/en/1.26.x/advanced-usage.html#ssl-warnings\n",
      "  warnings.warn(\n"
     ]
    },
    {
     "name": "stdout",
     "output_type": "stream",
     "text": [
      "['Parcels, Compiled from Opt-In Open Data Counties, Minnesota', 'Status of Free and Open Public Geospatial Data from Minnesota Counties', 'Tax Parcels, Saint Louis County, Minnesota', 'Parcel Data Geospatial Advisory Council (GAC) Validation Tool', 'Racial Covenants in Hennepin County', 'Tax Parcels - Points, Lines and Polygons, Dakota County, Minnesota', 'Public Parcels - Metro CTUs', 'Street Names in Minnesota', 'Minnesota Walk-In Access Sites', 'Metro Regional Parcel Dataset - (Updated Quarterly)']\n"
     ]
    }
   ],
   "source": [
    "mn_gsc_api_url = \"https://gisdata.mn.gov/api/3/action\"\n",
    "\n",
    "# MN geospatial commons api search datasets request for parcels\n",
    "\n",
    "search_datasets_url = mn_gsc_api_url + \"/package_search\"\n",
    "query = \"Parcels, Compiled from Opt-In Open Data Counties, Minnesota\"\n",
    "request_url = search_datasets_url + f\"?q={query}\"\n",
    "response = requests.get(request_url, verify=False) # verify=False disables SSL certification validation which makes it mad but i cant get it to work without disabling it\n",
    "response_data = json.loads(response.text)\n",
    "found_dataset_names = [dataset[\"title\"] for dataset in response_data[\"result\"][\"results\"]]\n",
    "print(found_dataset_names)"
   ]
  },
  {
   "cell_type": "code",
   "execution_count": 3,
   "metadata": {},
   "outputs": [
    {
     "name": "stderr",
     "output_type": "stream",
     "text": [
      "C:\\Program Files\\ArcGIS\\Pro\\bin\\Python\\envs\\arcgispro-py3\\lib\\site-packages\\urllib3\\connectionpool.py:1045: InsecureRequestWarning: Unverified HTTPS request is being made to host 'gisdata.mn.gov'. Adding certificate verification is strongly advised. See: https://urllib3.readthedocs.io/en/1.26.x/advanced-usage.html#ssl-warnings\n",
      "  warnings.warn(\n"
     ]
    },
    {
     "name": "stdout",
     "output_type": "stream",
     "text": [
      "https://resources.gisdata.mn.gov/pub/gdrs/data/pub/us_mn_state_mngeo/plan_parcels_open/fgdb_plan_parcels_open.zip\n"
     ]
    }
   ],
   "source": [
    "# MN geospatial commons api get dataset request for parcels\n",
    "\n",
    "first_dataset_result_id = response_data[\"result\"][\"results\"][0][\"id\"] # grab dataset that is first in returned dataset results\n",
    "get_dataset_url = mn_gsc_api_url + \"/package_show\"\n",
    "id = first_dataset_result_id\n",
    "request_url = get_dataset_url + f\"?id={id}\"\n",
    "response = requests.get(request_url, verify=False) # again disabling ssl cert validation\n",
    "response_data = json.loads(response.text)\n",
    "resources = response_data[\"result\"][\"resources\"]\n",
    "raw_zip_dataset_file_download_url = [resource for resource in resources if resource[\"resource_type\"] == \"fgdb\"][0][\"url\"]\n",
    "print(raw_zip_dataset_file_download_url)"
   ]
  },
  {
   "cell_type": "code",
   "execution_count": 4,
   "metadata": {},
   "outputs": [
    {
     "name": "stdout",
     "output_type": "stream",
     "text": [
      "['Parcels - Open Data Counties in Minnesota - Metadata Layer.lyr', 'Parcels - Open Data Counties in Minnesota.lyr', 'metadata/metadata.html', 'metadata/Open Parcel Compilation Metadata Layer.xml', 'metadata/Open Parcel Compilation Metadata Layer.html', 'metadata/metadata.xml', 'metadata/preview.jpg', 'metadata/Thumbs.db', 'plan_parcels_open.gdb/a0000000b.gdbtable.cdf', 'plan_parcels_open.gdb/a0000000c.gdbtable.FDO_OBJECTID_1.gdbtabidx', 'plan_parcels_open.gdb/a00000004.gdbtable', 'plan_parcels_open.gdb/a00000006.gdbindexes', 'plan_parcels_open.gdb/a00000007.gdbindexes', 'plan_parcels_open.gdb/a00000007.CatRelTypesByBackwardLabel.atx', 'plan_parcels_open.gdb/a00000004.CatItemsByType.atx', 'plan_parcels_open.gdb/a00000007.CatRelTypesByForwardLabel.atx', 'plan_parcels_open.gdb/a00000007.gdbtable', 'plan_parcels_open.gdb/a00000004.gdbindexes', 'plan_parcels_open.gdb/a00000006.freelist', 'plan_parcels_open.gdb/a00000005.CatItemTypesByName.atx', 'plan_parcels_open.gdb/a00000004.horizon', 'plan_parcels_open.gdb/a00000001.gdbtable', 'plan_parcels_open.gdb/a00000003.gdbindexes', 'plan_parcels_open.gdb/a00000007.gdbtablx', 'plan_parcels_open.gdb/a0000000c.gdbtable.cdf', 'plan_parcels_open.gdb/a00000001.gdbtablx', 'plan_parcels_open.gdb/a00000001.TablesByName.atx', 'plan_parcels_open.gdb/a00000004.gdbtablx', 'plan_parcels_open.gdb/a00000004.spx', 'plan_parcels_open.gdb/a00000005.gdbtable', 'plan_parcels_open.gdb/a00000002.gdbtablx', 'plan_parcels_open.gdb/a0000000c.gdbtable', 'plan_parcels_open.gdb/a00000002.gdbtable', 'plan_parcels_open.gdb/a00000001.freelist', 'plan_parcels_open.gdb/a0000000b.gdbtable.FDO_OBJECTID_1.gdbtabidx', 'plan_parcels_open.gdb/a00000004.freelist', 'plan_parcels_open.gdb/a00000005.gdbtablx', 'plan_parcels_open.gdb/a00000005.CatItemTypesByParentTypeID.atx', 'plan_parcels_open.gdb/a00000001.gdbindexes', 'plan_parcels_open.gdb/a00000003.gdbtable', 'plan_parcels_open.gdb/a00000006.CatRelsByType.atx', 'plan_parcels_open.gdb/a00000007.CatRelTypesByDestItemTypeID.atx', 'plan_parcels_open.gdb/gdb', 'plan_parcels_open.gdb/a00000005.gdbindexes', 'plan_parcels_open.gdb/a00000007.CatRelTypesByName.atx', 'plan_parcels_open.gdb/a00000003.gdbtablx', 'plan_parcels_open.gdb/a00000006.CatRelsByOriginID.atx', 'plan_parcels_open.gdb/timestamps', 'plan_parcels_open.gdb/a00000007.CatRelTypesByOriginItemTypeID.atx', 'plan_parcels_open.gdb/a00000005.CatItemTypesByUUID.atx', 'plan_parcels_open.gdb/a00000006.FDO_UUID.atx', 'plan_parcels_open.gdb/a00000006.gdbtable', 'plan_parcels_open.gdb/a00000007.CatRelTypesByUUID.atx', 'plan_parcels_open.gdb/a00000006.gdbtablx', 'plan_parcels_open.gdb/a00000004.FDO_UUID.atx', 'plan_parcels_open.gdb/a0000000b.gdbtable', 'plan_parcels_open.gdb/a00000004.CatItemsByPhysicalName.atx', 'plan_parcels_open.gdb/a00000006.CatRelsByDestinationID.atx']\n"
     ]
    }
   ],
   "source": [
    "# download parcels\n",
    "response = requests.get(raw_zip_dataset_file_download_url)\n",
    "# check response.status_code to see if download was successful, should return '200'\n",
    "os.chdir(r\"C:\\Users\\18284\\Documents\\ArcGIS\\Projects\\finalproject\")\n",
    "if response.status_code == 200:\n",
    "    # Open zipfile\n",
    "    with zipfile.ZipFile(BytesIO(response.content)) as z:\n",
    "        # extract contents of zipfile\n",
    "        z.extractall('parcels') # extracts contents into a folder named 'parcels'\n",
    "        \n",
    "        # assuming there's only one landuse file in the zip, get its name\n",
    "        parcels_file = [name for name in z.namelist()]\n",
    "        print(parcels_file)"
   ]
  },
  {
   "cell_type": "code",
   "execution_count": 5,
   "metadata": {},
   "outputs": [
    {
     "name": "stderr",
     "output_type": "stream",
     "text": [
      "C:\\Program Files\\ArcGIS\\Pro\\bin\\Python\\envs\\arcgispro-py3\\lib\\site-packages\\urllib3\\connectionpool.py:1045: InsecureRequestWarning: Unverified HTTPS request is being made to host 'gisdata.mn.gov'. Adding certificate verification is strongly advised. See: https://urllib3.readthedocs.io/en/1.26.x/advanced-usage.html#ssl-warnings\n",
      "  warnings.warn(\n"
     ]
    },
    {
     "name": "stdout",
     "output_type": "stream",
     "text": [
      "['County Boundaries in Minnesota', 'County Boundaries, Minnesota', 'Municipal Boundaries, Dakota County, Minnesota', 'Administrative Boundaries, Ramsey County, Minnesota', 'Political and Administrative Boundaries, Dakota County, Minnesota', 'State Boundary, Minnesota', 'Boundaries of Minnesota', 'Senate District Boundaries, Minnesota, 2012', 'House District Boundaries, Minnesota, 1994', 'House District Boundaries, Minnesota, 2002']\n"
     ]
    }
   ],
   "source": [
    "mn_gsc_api_url = \"https://gisdata.mn.gov/api/3/action\"\n",
    "\n",
    "# MN geospatial commons api search datasets request for counties\n",
    "\n",
    "search_datasets_url = mn_gsc_api_url + \"/package_search\"\n",
    "query = \"County Boundaries, Minnesota\"\n",
    "request_url = search_datasets_url + f\"?q={query}\"\n",
    "response = requests.get(request_url, verify=False) # verify=False disables SSL certification validation which makes it mad but i cant get it to work without disabling it\n",
    "response_data = json.loads(response.text)\n",
    "found_dataset_names = [dataset[\"title\"] for dataset in response_data[\"result\"][\"results\"]]\n",
    "print(found_dataset_names)"
   ]
  },
  {
   "cell_type": "code",
   "execution_count": 6,
   "metadata": {},
   "outputs": [
    {
     "name": "stderr",
     "output_type": "stream",
     "text": [
      "C:\\Program Files\\ArcGIS\\Pro\\bin\\Python\\envs\\arcgispro-py3\\lib\\site-packages\\urllib3\\connectionpool.py:1045: InsecureRequestWarning: Unverified HTTPS request is being made to host 'gisdata.mn.gov'. Adding certificate verification is strongly advised. See: https://urllib3.readthedocs.io/en/1.26.x/advanced-usage.html#ssl-warnings\n",
      "  warnings.warn(\n"
     ]
    },
    {
     "name": "stdout",
     "output_type": "stream",
     "text": [
      "https://resources.gisdata.mn.gov/pub/gdrs/data/pub/us_mn_state_dnr/bdry_counties_in_minnesota/fgdb_bdry_counties_in_minnesota.zip\n"
     ]
    }
   ],
   "source": [
    "# MN geospatial commons api get dataset request for counties\n",
    "\n",
    "first_dataset_result_id = response_data[\"result\"][\"results\"][1][\"id\"] # grab dataset that is second in returned dataset results\n",
    "get_dataset_url = mn_gsc_api_url + \"/package_show\"\n",
    "id = first_dataset_result_id\n",
    "request_url = get_dataset_url + f\"?id={id}\"\n",
    "response = requests.get(request_url, verify=False) # again disabling ssl cert validation\n",
    "response_data = json.loads(response.text)\n",
    "resources = response_data[\"result\"][\"resources\"]\n",
    "raw_zip_dataset_file_download_url = [resource for resource in resources if resource[\"resource_type\"] == \"fgdb\"][0][\"url\"]\n",
    "print(raw_zip_dataset_file_download_url)"
   ]
  },
  {
   "cell_type": "code",
   "execution_count": 7,
   "metadata": {},
   "outputs": [
    {
     "name": "stdout",
     "output_type": "stream",
     "text": [
      "['Counties in Minnesota.qlr', 'Counties in Minnesota.lyr', 'metadata/metadata.html', 'metadata/metadata.xml', 'bdry_counties_in_minnesota.gdb/a0000000e.gdbtable', 'bdry_counties_in_minnesota.gdb/a0000000d.gdbtablx', 'bdry_counties_in_minnesota.gdb/a0000000e.gdbindexes', 'bdry_counties_in_minnesota.gdb/a00000006.CatRelTypesByBackwardLabel.atx', 'bdry_counties_in_minnesota.gdb/a00000004.gdbtable', 'bdry_counties_in_minnesota.gdb/a0000000c.horizon', 'bdry_counties_in_minnesota.gdb/a00000006.gdbindexes', 'bdry_counties_in_minnesota.gdb/a00000007.gdbindexes', 'bdry_counties_in_minnesota.gdb/a0000000c.gdbtablx', 'bdry_counties_in_minnesota.gdb/a00000004.CatItemsByType.atx', 'bdry_counties_in_minnesota.gdb/a00000006.CatRelTypesByOriginItemTypeID.atx', 'bdry_counties_in_minnesota.gdb/a00000005.FDO_UUID.atx', 'bdry_counties_in_minnesota.gdb/a00000007.gdbtable', 'bdry_counties_in_minnesota.gdb/a0000000d.spx', 'bdry_counties_in_minnesota.gdb/a00000009.gdbtablx', 'bdry_counties_in_minnesota.gdb/a00000004.gdbindexes', 'bdry_counties_in_minnesota.gdb/a0000000f.gdbtablx', 'bdry_counties_in_minnesota.gdb/a0000000a.I8Status.atx', 'bdry_counties_in_minnesota.gdb/a0000000a.G8FeatureID.atx', 'bdry_counties_in_minnesota.gdb/a00000004.horizon', 'bdry_counties_in_minnesota.gdb/a00000005.CatRelsByDestinationID.atx', 'bdry_counties_in_minnesota.gdb/a00000001.gdbtable', 'bdry_counties_in_minnesota.gdb/a0000000e.I12AnnotationCla.atx', 'bdry_counties_in_minnesota.gdb/a0000000a.spx', 'bdry_counties_in_minnesota.gdb/a0000000e.I12Status.atx', 'bdry_counties_in_minnesota.gdb/a0000000b.gdbtablx', 'bdry_counties_in_minnesota.gdb/a0000000a.horizon', 'bdry_counties_in_minnesota.gdb/a00000007.CatItemTypesByUUID.atx', 'bdry_counties_in_minnesota.gdb/a00000003.gdbindexes', 'bdry_counties_in_minnesota.gdb/a0000000a.gdbindexes', 'bdry_counties_in_minnesota.gdb/a0000000a.gdbtablx', 'bdry_counties_in_minnesota.gdb/a00000007.gdbtablx', 'bdry_counties_in_minnesota.gdb/a00000009.horizon', 'bdry_counties_in_minnesota.gdb/a0000000b.gdbindexes', 'bdry_counties_in_minnesota.gdb/a00000001.gdbtablx', 'bdry_counties_in_minnesota.gdb/a00000001.TablesByName.atx', 'bdry_counties_in_minnesota.gdb/a00000006.CatRelTypesByUUID.atx', 'bdry_counties_in_minnesota.gdb/a0000000b.spx', 'bdry_counties_in_minnesota.gdb/a00000005.CatRelsByType.atx', 'bdry_counties_in_minnesota.gdb/a00000004.gdbtablx', 'bdry_counties_in_minnesota.gdb/a00000007.CatItemTypesByName.atx', 'bdry_counties_in_minnesota.gdb/a00000004.spx', 'bdry_counties_in_minnesota.gdb/a00000005.gdbtable', 'bdry_counties_in_minnesota.gdb/a0000000a.gdbtable', 'bdry_counties_in_minnesota.gdb/a0000000f.gdbindexes', 'bdry_counties_in_minnesota.gdb/a00000002.gdbtablx', 'bdry_counties_in_minnesota.gdb/a0000000c.gdbtable', 'bdry_counties_in_minnesota.gdb/a00000002.gdbtable', 'bdry_counties_in_minnesota.gdb/a00000006.CatRelTypesByForwardLabel.atx', 'bdry_counties_in_minnesota.gdb/a00000005.gdbtablx', 'bdry_counties_in_minnesota.gdb/a0000000d.gdbtable', 'bdry_counties_in_minnesota.gdb/a0000000d.horizon', 'bdry_counties_in_minnesota.gdb/a00000001.gdbindexes', 'bdry_counties_in_minnesota.gdb/a0000000e.gdbtablx', 'bdry_counties_in_minnesota.gdb/a00000003.gdbtable', 'bdry_counties_in_minnesota.gdb/a00000006.CatRelTypesByDestItemTypeID.atx', 'bdry_counties_in_minnesota.gdb/a00000007.CatItemTypesByParentTypeID.atx', 'bdry_counties_in_minnesota.gdb/a00000005.CatRelsByOriginID.atx', 'bdry_counties_in_minnesota.gdb/a0000000a.I8AnnotationClas.atx', 'bdry_counties_in_minnesota.gdb/a0000000e.horizon', 'bdry_counties_in_minnesota.gdb/a0000000d.gdbindexes', 'bdry_counties_in_minnesota.gdb/gdb', 'bdry_counties_in_minnesota.gdb/a00000005.gdbindexes', 'bdry_counties_in_minnesota.gdb/a00000003.gdbtablx', 'bdry_counties_in_minnesota.gdb/a0000000f.horizon', 'bdry_counties_in_minnesota.gdb/a00000009.gdbtable', 'bdry_counties_in_minnesota.gdb/timestamps', 'bdry_counties_in_minnesota.gdb/a0000000c.gdbindexes', 'bdry_counties_in_minnesota.gdb/a00000009.spx', 'bdry_counties_in_minnesota.gdb/a00000006.CatRelTypesByName.atx', 'bdry_counties_in_minnesota.gdb/a00000009.gdbindexes', 'bdry_counties_in_minnesota.gdb/a0000000b.horizon', 'bdry_counties_in_minnesota.gdb/a0000000e.spx', 'bdry_counties_in_minnesota.gdb/a00000006.gdbtable', 'bdry_counties_in_minnesota.gdb/a0000000f.gdbtable', 'bdry_counties_in_minnesota.gdb/a0000000c.spx', 'bdry_counties_in_minnesota.gdb/a00000006.gdbtablx', 'bdry_counties_in_minnesota.gdb/a00000004.FDO_UUID.atx', 'bdry_counties_in_minnesota.gdb/a0000000b.gdbtable', 'bdry_counties_in_minnesota.gdb/a00000004.CatItemsByPhysicalName.atx', 'bdry_counties_in_minnesota.gdb/a0000000f.spx']\n"
     ]
    }
   ],
   "source": [
    "# download counties \n",
    "response = requests.get(raw_zip_dataset_file_download_url)\n",
    "# check response.status_code to see if download was successful, should return '200'\n",
    "os.chdir(r\"C:\\Users\\18284\\Documents\\ArcGIS\\Projects\\finalproject\")\n",
    "if response.status_code == 200:\n",
    "    # Open zipfile\n",
    "    with zipfile.ZipFile(BytesIO(response.content)) as z:\n",
    "        # extract contents of zipfile\n",
    "        z.extractall('counties') # extracts contents into a folder named 'counties'\n",
    "        \n",
    "        # assuming there's only one counties file in the zip, get its name\n",
    "        counties_file = [name for name in z.namelist()]\n",
    "        print(counties_file)"
   ]
  },
  {
   "cell_type": "code",
   "execution_count": 8,
   "metadata": {},
   "outputs": [
    {
     "data": {
      "text/html": [
       "<div class='gpresult'><h2>Messages</h2><div id='messages' data-messages='[\"Start Time: Tuesday, November 14, 2023 12:20:30 AM\",\"Succeeded at Tuesday, November 14, 2023 12:20:30 AM (Elapsed Time: 0.41 seconds)\"]' data-show='true'><div id = 'default' /></div></div>"
      ],
      "text/plain": [
       "<Result 'C:\\\\Users\\\\18284\\\\Documents\\\\ArcGIS\\\\Projects\\\\finalproject\\\\counties.shp'>"
      ]
     },
     "execution_count": 8,
     "metadata": {},
     "output_type": "execute_result"
    }
   ],
   "source": [
    "# export out dakota county\n",
    "arcpy.conversion.ExportFeatures(\"mn_county_boundaries\", r\"C:\\Users\\18284\\Documents\\ArcGIS\\Projects\\finalproject\\counties\", \"CTY_ABBR = 'DAKO'\")"
   ]
  },
  {
   "cell_type": "code",
   "execution_count": 10,
   "metadata": {},
   "outputs": [
    {
     "data": {
      "text/html": [
       "<div class='gpresult'><h2>Messages</h2><div id='messages' data-messages='[\"Start Time: Tuesday, November 14, 2023 12:22:25 AM\",\"Reading Features...\",\"Assembling Features...\",\"Cracking Features...\",\"Succeeded at Tuesday, November 14, 2023 12:23:41 AM (Elapsed Time: 1 minutes 16 seconds)\"]' data-show='true'><div id = 'default' /></div></div>"
      ],
      "text/plain": [
       "<Result 'C:\\\\Users\\\\18284\\\\Documents\\\\ArcGIS\\\\Projects\\\\finalproject\\\\finalproject.gdb\\\\DakotaParcels'>"
      ]
     },
     "execution_count": 10,
     "metadata": {},
     "output_type": "execute_result"
    }
   ],
   "source": [
    "# clip parcels to dakota county\n",
    "\n",
    "arcpy.analysis.Clip(\n",
    "    in_features=\"plan_parcels_open\",\n",
    "    clip_features=\"counties\",\n",
    "    out_feature_class=r\"C:\\Users\\18284\\Documents\\ArcGIS\\Projects\\finalproject\\finalproject.gdb\\DakotaParcels\",\n",
    "    cluster_tolerance=None\n",
    ")"
   ]
  },
  {
   "cell_type": "code",
   "execution_count": 11,
   "metadata": {},
   "outputs": [
    {
     "name": "stderr",
     "output_type": "stream",
     "text": [
      "C:\\Program Files\\ArcGIS\\Pro\\bin\\Python\\envs\\arcgispro-py3\\lib\\site-packages\\urllib3\\connectionpool.py:1045: InsecureRequestWarning: Unverified HTTPS request is being made to host 'gisdata.mn.gov'. Adding certificate verification is strongly advised. See: https://urllib3.readthedocs.io/en/1.26.x/advanced-usage.html#ssl-warnings\n",
      "  warnings.warn(\n"
     ]
    },
    {
     "name": "stdout",
     "output_type": "stream",
     "text": [
      "['MNDNR Native Prairies', 'MNDNR Native Plant Communities', 'MNDNR Native Plant Communities - Groundwater Subset', 'Prairie Change Analysis 1991-2008', 'MCBS Railroad Rights-of-Way Prairies', 'MNDNR Forest Inventory Old Growth', 'MNDNR SNA Conservation Opportunity Areas and Marxan Conservation Prioritization', 'Map displaying LSOHC Completed Project Locations', 'Potentially Undisturbed Land (Virgin Sod) - FSA Common Land Unit Derived', 'Scientific and Natural Area Units']\n"
     ]
    }
   ],
   "source": [
    "mn_gsc_api_url = \"https://gisdata.mn.gov/api/3/action\"\n",
    "\n",
    "# MN geospatial commons api search datasets request for prairies\n",
    "\n",
    "search_datasets_url = mn_gsc_api_url + \"/package_search\"\n",
    "query = \"MNDNR Native Prairies\"\n",
    "request_url = search_datasets_url + f\"?q={query}\"\n",
    "response = requests.get(request_url, verify=False) # verify=False disables SSL certification validation which makes it mad but i cant get it to work without disabling it\n",
    "response_data = json.loads(response.text)\n",
    "found_dataset_names = [dataset[\"title\"] for dataset in response_data[\"result\"][\"results\"]]\n",
    "print(found_dataset_names)"
   ]
  },
  {
   "cell_type": "code",
   "execution_count": 12,
   "metadata": {},
   "outputs": [
    {
     "name": "stderr",
     "output_type": "stream",
     "text": [
      "C:\\Program Files\\ArcGIS\\Pro\\bin\\Python\\envs\\arcgispro-py3\\lib\\site-packages\\urllib3\\connectionpool.py:1045: InsecureRequestWarning: Unverified HTTPS request is being made to host 'gisdata.mn.gov'. Adding certificate verification is strongly advised. See: https://urllib3.readthedocs.io/en/1.26.x/advanced-usage.html#ssl-warnings\n",
      "  warnings.warn(\n"
     ]
    },
    {
     "name": "stdout",
     "output_type": "stream",
     "text": [
      "https://resources.gisdata.mn.gov/pub/gdrs/data/pub/us_mn_state_dnr/biota_dnr_native_prairies/fgdb_biota_dnr_native_prairies.zip\n"
     ]
    }
   ],
   "source": [
    "# MN geospatial commons api get dataset request for prairies\n",
    "\n",
    "first_dataset_result_id = response_data[\"result\"][\"results\"][0][\"id\"] # grab dataset that is first in returned dataset results\n",
    "get_dataset_url = mn_gsc_api_url + \"/package_show\"\n",
    "id = first_dataset_result_id\n",
    "request_url = get_dataset_url + f\"?id={id}\"\n",
    "response = requests.get(request_url, verify=False) # again disabling ssl cert validation\n",
    "response_data = json.loads(response.text)\n",
    "resources = response_data[\"result\"][\"resources\"]\n",
    "raw_zip_dataset_file_download_url = [resource for resource in resources if resource[\"resource_type\"] == \"fgdb\"][0][\"url\"]\n",
    "print(raw_zip_dataset_file_download_url)"
   ]
  },
  {
   "cell_type": "code",
   "execution_count": 13,
   "metadata": {},
   "outputs": [
    {
     "name": "stdout",
     "output_type": "stream",
     "text": [
      "['DNR Native Plant Communities - Prairie subset.lyr', 'metadata/S_and_G_ranks.pdf', 'metadata/metadata.html', 'metadata/MN xwalk with NVC 2.0 hierarchy_9may16.xlsx', 'metadata/S_and_G_ranks.html', 'metadata/metadata.xml', 'metadata/NPC_Complexes.pdf', 'metadata/NPC_Complexes.html', 'metadata/S_and_G_ranks.xls', 'metadata/NPC_Complexes.xlsx', 'biota_dnr_native_prairies.gdb/a0000099e.gdbtable', 'biota_dnr_native_prairies.gdb/a00000004.gdbtable', 'biota_dnr_native_prairies.gdb/a00000006.gdbindexes', 'biota_dnr_native_prairies.gdb/a00000296.gdbtable', 'biota_dnr_native_prairies.gdb/a00000007.gdbindexes', 'biota_dnr_native_prairies.gdb/a00000007.CatRelTypesByBackwardLabel.atx', 'biota_dnr_native_prairies.gdb/a00000297.gdbtablx', 'biota_dnr_native_prairies.gdb/a00000004.CatItemsByType.atx', 'biota_dnr_native_prairies.gdb/a00000007.CatRelTypesByForwardLabel.atx', 'biota_dnr_native_prairies.gdb/a00000007.gdbtable', 'biota_dnr_native_prairies.gdb/a00000295.gdbtablx', 'biota_dnr_native_prairies.gdb/a00000004.gdbindexes', 'biota_dnr_native_prairies.gdb/a00000006.freelist', 'biota_dnr_native_prairies.gdb/a00000005.CatItemTypesByName.atx', 'biota_dnr_native_prairies.gdb/a00000297.gdbtable', 'biota_dnr_native_prairies.gdb/a00000295.gdbindexes', 'biota_dnr_native_prairies.gdb/a00000004.horizon', 'biota_dnr_native_prairies.gdb/a00000297.spx', 'biota_dnr_native_prairies.gdb/a00000296.gdbindexes', 'biota_dnr_native_prairies.gdb/a00000001.gdbtable', 'biota_dnr_native_prairies.gdb/a00000003.gdbindexes', 'biota_dnr_native_prairies.gdb/a00000296.gdbtablx', 'biota_dnr_native_prairies.gdb/a00000007.gdbtablx', 'biota_dnr_native_prairies.gdb/a00000295.spx', 'biota_dnr_native_prairies.gdb/a00000001.gdbtablx', 'biota_dnr_native_prairies.gdb/a00000001.TablesByName.atx', 'biota_dnr_native_prairies.gdb/a00000295.gdbtable', 'biota_dnr_native_prairies.gdb/a00000296.spx', 'biota_dnr_native_prairies.gdb/a00000294.gdbtable', 'biota_dnr_native_prairies.gdb/a0000099e.gdbtablx', 'biota_dnr_native_prairies.gdb/a00000004.gdbtablx', 'biota_dnr_native_prairies.gdb/a00000004.spx', 'biota_dnr_native_prairies.gdb/a00000005.gdbtable', 'biota_dnr_native_prairies.gdb/a0000099e.horizon', 'biota_dnr_native_prairies.gdb/a00000002.gdbtablx', 'biota_dnr_native_prairies.gdb/a0000099e.spx', 'biota_dnr_native_prairies.gdb/a00000002.gdbtable', 'biota_dnr_native_prairies.gdb/a00000001.freelist', 'biota_dnr_native_prairies.gdb/a00000004.freelist', 'biota_dnr_native_prairies.gdb/a00000005.gdbtablx', 'biota_dnr_native_prairies.gdb/a00000294.gdbtablx', 'biota_dnr_native_prairies.gdb/a00000005.CatItemTypesByParentTypeID.atx', 'biota_dnr_native_prairies.gdb/a00000001.gdbindexes', 'biota_dnr_native_prairies.gdb/a00000003.gdbtable', 'biota_dnr_native_prairies.gdb/a00000006.CatRelsByType.atx', 'biota_dnr_native_prairies.gdb/a00000297.gdbindexes', 'biota_dnr_native_prairies.gdb/a00000007.CatRelTypesByDestItemTypeID.atx', 'biota_dnr_native_prairies.gdb/a00000294.spx', 'biota_dnr_native_prairies.gdb/gdb', 'biota_dnr_native_prairies.gdb/a00000005.gdbindexes', 'biota_dnr_native_prairies.gdb/a00000007.CatRelTypesByName.atx', 'biota_dnr_native_prairies.gdb/a00000003.gdbtablx', 'biota_dnr_native_prairies.gdb/a00000006.CatRelsByOriginID.atx', 'biota_dnr_native_prairies.gdb/timestamps', 'biota_dnr_native_prairies.gdb/a00000007.CatRelTypesByOriginItemTypeID.atx', 'biota_dnr_native_prairies.gdb/a00000005.CatItemTypesByUUID.atx', 'biota_dnr_native_prairies.gdb/a00000294.gdbindexes', 'biota_dnr_native_prairies.gdb/a00000006.FDO_UUID.atx', 'biota_dnr_native_prairies.gdb/a00000006.gdbtable', 'biota_dnr_native_prairies.gdb/a0000099e.gdbindexes', 'biota_dnr_native_prairies.gdb/a00000007.CatRelTypesByUUID.atx', 'biota_dnr_native_prairies.gdb/a00000006.gdbtablx', 'biota_dnr_native_prairies.gdb/a00000004.FDO_UUID.atx', 'biota_dnr_native_prairies.gdb/a00000004.CatItemsByPhysicalName.atx', 'biota_dnr_native_prairies.gdb/a00000006.CatRelsByDestinationID.atx']\n"
     ]
    }
   ],
   "source": [
    "# download prairies\n",
    "response = requests.get(raw_zip_dataset_file_download_url)\n",
    "# check response.status_code to see if download was successful, should return '200'\n",
    "os.chdir(r\"C:\\Users\\18284\\Documents\\ArcGIS\\Projects\\finalproject\")\n",
    "if response.status_code == 200:\n",
    "    # Open zipfile\n",
    "    with zipfile.ZipFile(BytesIO(response.content)) as z:\n",
    "        # extract contents of zipfile\n",
    "        z.extractall('prairies') # extracts contents into a folder named 'prairies'\n",
    "        \n",
    "        # assuming there's only one landuse file in the zip, get its name\n",
    "        prairies_file = [name for name in z.namelist()]\n",
    "        print(prairies_file)"
   ]
  },
  {
   "cell_type": "code",
   "execution_count": 3,
   "metadata": {},
   "outputs": [
    {
     "data": {
      "text/html": [
       "<div class='gpresult'><h2>Messages</h2><div id='messages' data-messages='[\"Start Time: Sunday, December 17, 2023 8:52:11 PM\",\"Reading Features...\",\"Cracking Features...\",\"Assembling Features...\",\"Succeeded at Sunday, December 17, 2023 8:52:41 PM (Elapsed Time: 29.99 seconds)\"]' data-show='true'><div id = 'default' /></div></div>"
      ],
      "text/plain": [
       "<Result 'C:\\\\Users\\\\18284\\\\Documents\\\\ArcGIS\\\\Projects\\\\finalproject\\\\finalproject.gdb\\\\DakotaPrairies'>"
      ]
     },
     "execution_count": 3,
     "metadata": {},
     "output_type": "execute_result"
    }
   ],
   "source": [
    "# clip out dakota county native prairies\n",
    "\n",
    "arcpy.analysis.Clip(\n",
    "    in_features=\"dnr_native_prairies\",\n",
    "    clip_features=\"DakotaParcels\",\n",
    "    out_feature_class=r\"C:\\Users\\18284\\Documents\\ArcGIS\\Projects\\finalproject\\finalproject.gdb\\DakotaPrairies\",\n",
    "    cluster_tolerance=None\n",
    ")"
   ]
  },
  {
   "cell_type": "code",
   "execution_count": 4,
   "metadata": {},
   "outputs": [
    {
     "ename": "ValueError",
     "evalue": "cannot create NumPyArray. geometry type found",
     "output_type": "error",
     "traceback": [
      "\u001b[0;31m---------------------------------------------------------------------------\u001b[0m\n\u001b[0;31mValueError\u001b[0m                                Traceback (most recent call last)",
      "In  \u001b[0;34m[4]\u001b[0m:\nLine \u001b[0;34m8\u001b[0m:     attribute_array = arcpy.da.TableToNumPyArray(shapefile, field_names)\n",
      "\u001b[0;31mValueError\u001b[0m: cannot create NumPyArray. geometry type found\n\u001b[0;31m---------------------------------------------------------------------------\u001b[0m"
     ]
    }
   ],
   "source": [
    "# get numpy array of parcel attribute table\n",
    "\n",
    "arcpy.env.workspace = r'C:\\Users\\18284\\Documents\\ArcGIS\\Projects\\finalproject'\n",
    "shapefile = 'DakotaParcels'\n",
    "\n",
    "field_names = [field.name for field in arcpy.ListFields(shapefile)]\n",
    "\n",
    "attribute_array = arcpy.da.TableToNumPyArray(shapefile, field_names)\n",
    "\n",
    "print(attribute_array)"
   ]
  },
  {
   "cell_type": "code",
   "execution_count": 9,
   "metadata": {
    "scrolled": true
   },
   "outputs": [],
   "source": [
    "# MAIN SETUP FOR CONSTANTS\n",
    "\n",
    "import pandas as pd\n",
    "from sklearn.neighbors import NearestNeighbors\n",
    "\n",
    "all_fields = ['OID@', 'objectid', 'county_pin', 'state_pin', 'own_add_l1', 'tax_name', 'acres_poly', 'emv_land', 'emv_bldg', 'emv_total', 'useclass1', 'useclass2','SHAPE@TRUECENTROID']\n",
    "fc = 'DakotaParcels'\n",
    "all_fields2 = ['OID@','SHAPE@TRUECENTROID']\n",
    "fc2 = 'DakotaPrairies'\n",
    "\n",
    "#  A) LOAD PARCEL AND PRARIE DATA FROM SHAPEFILES\n",
    "#~~~~~~~~~~~~~~~~~~~~~~~~~~~~~~~~~~~~~~~~~~~~~~~~~~~~~~~~~~~~~~~~~~~~~~~~~~~~~~~\n",
    "# LOAD PARCEL DATA TO NP ARRAY\n",
    "parcel_numpy = arcpy.da.FeatureClassToNumPyArray(fc, all_fields, \"\")\n",
    "num_parcels = len(parcel_numpy)\n",
    "\n",
    "# LOAD PRARIE DATA TO NP ARRAY\n",
    "prairie_numpy = arcpy.da.FeatureClassToNumPyArray(fc2, all_fields2, \"\")\n",
    "num_prairies = len(parcel_numpy)\n",
    "#~~~~~~~~~~~~~~~~~~~~~~~~~~~~~~~~~~~~~~~~~~~~~~~~~~~~~~~~~~~~~~~~~~~~~~~~~~~~~~~\n",
    "\n",
    "\n",
    "#  B) MAP LAND ZONING TO AN INTEGER VALUE FOR COMPUTATIONAL ANALYSIS\n",
    "#~~~~~~~~~~~~~~~~~~~~~~~~~~~~~~~~~~~~~~~~~~~~~~~~~~~~~~~~~~~~~~~~~~~~~~~~~~~~~~~\n",
    "# CREATE A USE CASE MAP\n",
    "class_options_string = numpy.unique(parcel_numpy['useclass1'])\n",
    "class_options_sorted = numpy.argsort(class_options_string) # TEMPORARY MANUALLY SET THIS L8R (PRIORITY OF LAND USE)\n",
    "class_options_id = numpy.arange(0, len(class_options_string))[class_options_sorted]\n",
    "class_options_string = class_options_string[class_options_sorted]\n",
    "class_map = dict(zip(class_options_string, class_options_id))\n",
    "#~~~~~~~~~~~~~~~~~~~~~~~~~~~~~~~~~~~~~~~~~~~~~~~~~~~~~~~~~~~~~~~~~~~~~~~~~~~~~~~\n",
    "\n",
    "\n",
    "#  C) SEPERATE OUT DATA FOR THE PARCELS ALREADY OWNED BY THE FISH & WILDLIFE SERVICE OR\n",
    "#            THE DNR BY CREATING MASKING ARRAYS\n",
    "#~~~~~~~~~~~~~~~~~~~~~~~~~~~~~~~~~~~~~~~~~~~~~~~~~~~~~~~~~~~~~~~~~~~~~~~~~~~~~~~~\n",
    "# CHECK FOR DNR OR FWS LAND AND CREATE FILTER\n",
    "isFWSLand = numpy.zeros(num_parcels)\n",
    "isDNRLand = numpy.zeros(num_parcels)\n",
    "\n",
    "# ITERATOR TO CREATE VARIOUS PARCEL VARIABLE\n",
    "for i in range(num_parcels):\n",
    "    parcel_numpy['useclass2'][i] = class_map[parcel_numpy['useclass1'][i]]\n",
    "    isFWSLand[i] = (('fish' in (parcel_numpy['own_add_l1'][i]).lower()) \n",
    "                    and ('wildlife' in (parcel_numpy['own_add_l1'][i]).lower())) or (\n",
    "                    ('fish' in (parcel_numpy['tax_name'][i]).lower()) \n",
    "                    and ('wildlife' in (parcel_numpy['tax_name'][i]).lower()))\n",
    "    isDNRLand[i] = ('dnr' in (parcel_numpy['tax_name'][i]).lower())\n",
    "\n",
    "# PROSPECTIVE NON-GOVERNMENT LAND\n",
    "#    IF PARCEL IS NOT FWSLAND OR DNRLAND ADD IT TO THE PROSPECTIVE PARCELS\n",
    "isProspect = numpy.logical_not((isFWSLand+isDNRLand).astype(bool)).astype(bool)\n",
    "#~~~~~~~~~~~~~~~~~~~~~~~~~~~~~~~~~~~~~~~~~~~~~~~~~~~~~~~~~~~~~~~~~~~~~~~~~~~~~~~\n",
    "\n",
    "#  D) APPLY THE MASKING ARRAYS TO CREATE DATAFRAMES OF THE DNR, FWS, AND PROSPECTIVE PARCELS\n",
    "#~~~~~~~~~~~~~~~~~~~~~~~~~~~~~~~~~~~~~~~~~~~~~~~~~~~~~~~~~~~~~~~~~~~~~~~~~~~~~~~\n",
    "# GENERATE PANDAS DATAFRAMES FOR DATA MANAGEMENT\n",
    "dfFWSParcels = pd.DataFrame(parcel_numpy[isFWSLand.astype(bool)].tolist(), columns=all_fields)\n",
    "dfDNRParcels = pd.DataFrame(parcel_numpy[isDNRLand.astype(bool)].tolist(), columns=all_fields)\n",
    "dfProspectiveParcels = pd.DataFrame(parcel_numpy[isProspect.astype(bool)].tolist(), columns=all_fields)\n",
    "dfProspectiveParcels['useclass2'] = pd.to_numeric(dfProspectiveParcels['useclass2'])\n",
    "#~~~~~~~~~~~~~~~~~~~~~~~~~~~~~~~~~~~~~~~~~~~~~~~~~~~~~~~~~~~~~~~~~~~~~~~~~~~~~~~\n",
    "\n",
    "#  E) CALCULATE AND ADD THE DISTANCE TO THE NEAREST PRAIRIE TO THE DATAFRAMES\n",
    "#~~~~~~~~~~~~~~~~~~~~~~~~~~~~~~~~~~~~~~~~~~~~~~~~~~~~~~~~~~~~~~~~~~~~~~~~~~~~~~~\n",
    "dfPrairies = pd.DataFrame(prairie_numpy.tolist(), columns=all_fields2)\n",
    "# COMPUTE THE CENTROIDS\n",
    "FWSCentroids = numpy.array(dfDNRParcels['SHAPE@TRUECENTROID'].tolist())\n",
    "DNRCentroids = numpy.array(dfFWSParcels['SHAPE@TRUECENTROID'].tolist())\n",
    "PrairieCentroids = numpy.array(dfPrairies['SHAPE@TRUECENTROID'].tolist())\n",
    "AllCentroids = numpy.append(numpy.append(FWSCentroids, DNRCentroids, axis=0), PrairieCentroids, axis=0)\n",
    "ProspectCentroids = numpy.array(dfProspectiveParcels['SHAPE@TRUECENTROID'].tolist())\n",
    "\n",
    "# USE SCIKIT LEARN'S NEAREST NEIGHBOR FUNCTION TO DETERMINE DISTANCES\n",
    "FWSnbrs = NearestNeighbors(n_neighbors=1, algorithm='ball_tree').fit(FWSCentroids)\n",
    "DNRnbrs = NearestNeighbors(n_neighbors=1, algorithm='ball_tree').fit(DNRCentroids)\n",
    "PRAIRIEnbrs = NearestNeighbors(n_neighbors=1, algorithm='ball_tree').fit(PrairieCentroids)\n",
    "ALLnbrs = NearestNeighbors(n_neighbors=1, algorithm='ball_tree').fit(AllCentroids)\n",
    "dfProspectiveParcels['distance_fws_NN'], dfProspectiveParcels['index_fws_NN'] = FWSnbrs.kneighbors(ProspectCentroids)\n",
    "dfProspectiveParcels['distance_dnr_NN'], dfProspectiveParcels['index_dnr_NN'] = DNRnbrs.kneighbors(ProspectCentroids)\n",
    "dfProspectiveParcels['distance_prairie_NN'], dfProspectiveParcels['index_prairie_NN'] = PRAIRIEnbrs.kneighbors(ProspectCentroids)\n",
    "dfProspectiveParcels['distance_all_NN'], dfProspectiveParcels['index_all_NN'] = ALLnbrs.kneighbors(ProspectCentroids)\n",
    "#~~~~~~~~~~~~~~~~~~~~~~~~~~~~~~~~~~~~~~~~~~~~~~~~~~~~~~~~~~~~~~~~~~~~~~~~~~~~~~~\n",
    "\n",
    "\n",
    "#  F) CALCULATE AND ADD THE DOLLARS PER ACRE TO THE PROSPECTIVE PARCELS DATAFRAME\n",
    "#~~~~~~~~~~~~~~~~~~~~~~~~~~~~~~~~~~~~~~~~~~~~~~~~~~~~~~~~~~~~~~~~~~~~~~~~~~~~~~~\n",
    "# CALCULATE DOLLARS PER ACRES POLY\n",
    "dfProspectiveParcels['usd_per_acre_total'] = numpy.divide(dfProspectiveParcels['emv_total'], dfProspectiveParcels['acres_poly'])\n",
    "dfProspectiveParcels['usd_per_acre_bldg'] = numpy.divide(dfProspectiveParcels['emv_bldg'], dfProspectiveParcels['acres_poly'])\n",
    "dfProspectiveParcels['usd_per_acre_land'] = numpy.divide(dfProspectiveParcels['emv_land'], dfProspectiveParcels['acres_poly'])\n",
    "#~~~~~~~~~~~~~~~~~~~~~~~~~~~~~~~~~~~~~~~~~~~~~~~~~~~~~~~~~~~~~~~~~~~~~~~~~~~~~~~\n",
    "\n",
    "#   G) HUMAN READABLE DATA HAS BEEN GENERATED!"
   ]
  },
  {
   "cell_type": "code",
   "execution_count": 10,
   "metadata": {},
   "outputs": [
    {
     "data": {
      "text/html": [
       "<div class='gpresult'><h2>Messages</h2><div id='messages' data-messages='[\"Start Time: Sunday, December 17, 2023 8:58:45 PM\",\"Succeeded at Sunday, December 17, 2023 8:58:46 PM (Elapsed Time: 0.71 seconds)\"]' data-show='true'><div id = 'default' /></div></div>"
      ],
      "text/plain": [
       "<Result 'C:\\\\Users\\\\18284\\\\Documents\\\\ArcGIS\\\\Projects\\\\finalproject\\\\DakotaParcels_FWSDNR.shp'>"
      ]
     },
     "execution_count": 10,
     "metadata": {},
     "output_type": "execute_result"
    }
   ],
   "source": [
    "# EXPORTS DAKOTA PARCELS DATA to FWS and DNR LAYERS\n",
    "\n",
    "\n",
    "for parcelOID in dfFWSParcels['objectid'].tolist():\n",
    "    arcpy.management.SelectLayerByAttribute(\n",
    "        in_layer_or_view=\"DakotaParcels\",\n",
    "        selection_type=\"ADD_TO_SELECTION\",\n",
    "        where_clause=\"objectid = \"+ str(parcelOID),\n",
    "        invert_where_clause=None\n",
    "    )\n",
    "\n",
    "arcpy.conversion.ExportFeatures(\n",
    "    in_features=\"DakotaParcels\",\n",
    "    out_features=\"DakotaParcels_FWS\",\n",
    "    where_clause=\"\",\n",
    "    use_field_alias_as_name=\"NOT_USE_ALIAS\",\n",
    "    field_mapping='objectid \"objectid\" true true false 4 Long 0 0,First,#,DakotaParcels,objectid,-1,-1;county_pin \"county_pin\" true true false 22 Text 0 0,First,#,DakotaParcels,county_pin,0,22;state_pin \"state_pin\" true true false 28 Text 0 0,First,#,DakotaParcels,state_pin,0,28;anumberpre \"anumberpre\" true true false 15 Text 0 0,First,#,DakotaParcels,anumberpre,0,15;anumber \"anumber\" true true false 4 Long 0 0,First,#,DakotaParcels,anumber,-1,-1;anumbersuf \"anumbersuf\" true true false 15 Text 0 0,First,#,DakotaParcels,anumbersuf,0,15;st_pre_mod \"st_pre_mod\" true true false 15 Text 0 0,First,#,DakotaParcels,st_pre_mod,0,15;st_pre_dir \"st_pre_dir\" true true false 9 Text 0 0,First,#,DakotaParcels,st_pre_dir,0,9;st_pre_typ \"st_pre_typ\" true true false 35 Text 0 0,First,#,DakotaParcels,st_pre_typ,0,35;st_pre_sep \"st_pre_sep\" true true false 20 Text 0 0,First,#,DakotaParcels,st_pre_sep,0,20;st_name \"st_name\" true true false 60 Text 0 0,First,#,DakotaParcels,st_name,0,60;st_pos_typ \"st_pos_typ\" true true false 15 Text 0 0,First,#,DakotaParcels,st_pos_typ,0,15;st_pos_dir \"st_pos_dir\" true true false 9 Text 0 0,First,#,DakotaParcels,st_pos_dir,0,9;st_pos_mod \"st_pos_mod\" true true false 15 Text 0 0,First,#,DakotaParcels,st_pos_mod,0,15;sub_type1 \"sub_type1\" true true false 12 Text 0 0,First,#,DakotaParcels,sub_type1,0,12;sub_id1 \"sub_id1\" true true false 30 Text 0 0,First,#,DakotaParcels,sub_id1,0,30;sub_type2 \"sub_type2\" true true false 12 Text 0 0,First,#,DakotaParcels,sub_type2,0,12;sub_id2 \"sub_id2\" true true false 30 Text 0 0,First,#,DakotaParcels,sub_id2,0,30;zip \"zip\" true true false 5 Text 0 0,First,#,DakotaParcels,zip,0,5;zip4 \"zip4\" true true false 4 Text 0 0,First,#,DakotaParcels,zip4,0,4;ctu_name \"ctu_name\" true true false 100 Text 0 0,First,#,DakotaParcels,ctu_name,0,100;ctu_id_txt \"ctu_id_txt\" true true false 8 Text 0 0,First,#,DakotaParcels,ctu_id_txt,0,8;postcomm \"postcomm\" true true false 40 Text 0 0,First,#,DakotaParcels,postcomm,0,40;co_code \"co_code\" true true false 5 Text 0 0,First,#,DakotaParcels,co_code,0,5;co_name \"co_name\" true true false 40 Text 0 0,First,#,DakotaParcels,co_name,0,40;state_code \"state_code\" true true false 2 Text 0 0,First,#,DakotaParcels,state_code,0,2;lot \"lot\" true true false 30 Text 0 0,First,#,DakotaParcels,lot,0,30;block \"block\" true true false 30 Text 0 0,First,#,DakotaParcels,block,0,30;plat_name \"plat_name\" true true false 150 Text 0 0,First,#,DakotaParcels,plat_name,0,150;owner_name \"owner_name\" true true false 100 Text 0 0,First,#,DakotaParcels,owner_name,0,100;owner_more \"owner_more\" true true false 100 Text 0 0,First,#,DakotaParcels,owner_more,0,100;own_add_l1 \"own_add_l1\" true true false 100 Text 0 0,First,#,DakotaParcels,own_add_l1,0,100;own_add_l2 \"own_add_l2\" true true false 100 Text 0 0,First,#,DakotaParcels,own_add_l2,0,100;own_add_l3 \"own_add_l3\" true true false 100 Text 0 0,First,#,DakotaParcels,own_add_l3,0,100;own_add_l4 \"own_add_l4\" true true false 100 Text 0 0,First,#,DakotaParcels,own_add_l4,0,100;tax_name \"tax_name\" true true false 100 Text 0 0,First,#,DakotaParcels,tax_name,0,100;tax_add_l1 \"tax_add_l1\" true true false 100 Text 0 0,First,#,DakotaParcels,tax_add_l1,0,100;tax_add_l2 \"tax_add_l2\" true true false 100 Text 0 0,First,#,DakotaParcels,tax_add_l2,0,100;tax_add_l3 \"tax_add_l3\" true true false 100 Text 0 0,First,#,DakotaParcels,tax_add_l3,0,100;tax_add_l4 \"tax_add_l4\" true true false 100 Text 0 0,First,#,DakotaParcels,tax_add_l4,0,100;landmark \"landmark\" true true false 150 Text 0 0,First,#,DakotaParcels,landmark,0,150;homestead \"homestead\" true true false 10 Text 0 0,First,#,DakotaParcels,homestead,0,10;acres_poly \"acres_poly\" true true false 8 Double 0 0,First,#,DakotaParcels,acres_poly,-1,-1;acres_deed \"acres_deed\" true true false 8 Double 0 0,First,#,DakotaParcels,acres_deed,-1,-1;emv_land \"emv_land\" true true false 4 Long 0 0,First,#,DakotaParcels,emv_land,-1,-1;emv_bldg \"emv_bldg\" true true false 4 Long 0 0,First,#,DakotaParcels,emv_bldg,-1,-1;emv_total \"emv_total\" true true false 4 Long 0 0,First,#,DakotaParcels,emv_total,-1,-1;tax_year \"tax_year\" true true false 2 Short 0 0,First,#,DakotaParcels,tax_year,-1,-1;mkt_year \"mkt_year\" true true false 2 Short 0 0,First,#,DakotaParcels,mkt_year,-1,-1;tax_capac \"tax_capac\" true true false 4 Long 0 0,First,#,DakotaParcels,tax_capac,-1,-1;total_tax \"total_tax\" true true false 4 Long 0 0,First,#,DakotaParcels,total_tax,-1,-1;spec_asses \"spec_asses\" true true false 4 Long 0 0,First,#,DakotaParcels,spec_asses,-1,-1;useclass1 \"useclass1\" true true false 100 Text 0 0,First,#,DakotaParcels,useclass1,0,100;useclass2 \"useclass2\" true true false 100 Text 0 0,First,#,DakotaParcels,useclass2,0,100;useclass3 \"useclass3\" true true false 100 Text 0 0,First,#,DakotaParcels,useclass3,0,100;useclass4 \"useclass4\" true true false 100 Text 0 0,First,#,DakotaParcels,useclass4,0,100;multi_uses \"multi_uses\" true true false 10 Text 0 0,First,#,DakotaParcels,multi_uses,0,10;tax_exempt \"tax_exempt\" true true false 3 Text 0 0,First,#,DakotaParcels,tax_exempt,0,3;xuseclass1 \"xuseclass1\" true true false 100 Text 0 0,First,#,DakotaParcels,xuseclass1,0,100;xuseclass2 \"xuseclass2\" true true false 100 Text 0 0,First,#,DakotaParcels,xuseclass2,0,100;xuseclass3 \"xuseclass3\" true true false 100 Text 0 0,First,#,DakotaParcels,xuseclass3,0,100;xuseclass4 \"xuseclass4\" true true false 100 Text 0 0,First,#,DakotaParcels,xuseclass4,0,100;dwell_type \"dwell_type\" true true false 30 Text 0 0,First,#,DakotaParcels,dwell_type,0,30;home_style \"home_style\" true true false 30 Text 0 0,First,#,DakotaParcels,home_style,0,30;fin_sq_ft \"fin_sq_ft\" true true false 4 Long 0 0,First,#,DakotaParcels,fin_sq_ft,-1,-1;garage \"garage\" true true false 10 Text 0 0,First,#,DakotaParcels,garage,0,10;garagesqft \"garagesqft\" true true false 4 Long 0 0,First,#,DakotaParcels,garagesqft,-1,-1;basement \"basement\" true true false 10 Text 0 0,First,#,DakotaParcels,basement,0,10;heating \"heating\" true true false 30 Text 0 0,First,#,DakotaParcels,heating,0,30;cooling \"cooling\" true true false 30 Text 0 0,First,#,DakotaParcels,cooling,0,30;year_built \"year_built\" true true false 2 Short 0 0,First,#,DakotaParcels,year_built,-1,-1;num_units \"num_units\" true true false 4 Long 0 0,First,#,DakotaParcels,num_units,-1,-1;sale_date \"sale_date\" true true false 8 Date 0 0,First,#,DakotaParcels,sale_date,-1,-1;sale_value \"sale_value\" true true false 4 Long 0 0,First,#,DakotaParcels,sale_value,-1,-1;green_acre \"green_acre\" true true false 10 Text 0 0,First,#,DakotaParcels,green_acre,0,10;open_space \"open_space\" true true false 10 Text 0 0,First,#,DakotaParcels,open_space,0,10;ag_preserv \"ag_preserv\" true true false 10 Text 0 0,First,#,DakotaParcels,ag_preserv,0,10;agpre_enrd \"agpre_enrd\" true true false 8 Date 0 0,First,#,DakotaParcels,agpre_enrd,-1,-1;agpre_expd \"agpre_expd\" true true false 8 Date 0 0,First,#,DakotaParcels,agpre_expd,-1,-1;abb_legal \"abb_legal\" true true false 254 Text 0 0,First,#,DakotaParcels,abb_legal,0,254;edit_date \"edit_date\" true true false 8 Date 0 0,First,#,DakotaParcels,edit_date,-1,-1;exp_date \"exp_date\" true true false 8 Date 0 0,First,#,DakotaParcels,exp_date,-1,-1;polyptrel \"polyptrel\" true true false 2 Short 0 0,First,#,DakotaParcels,polyptrel,-1,-1;n_standard \"n_standard\" true true false 2 Short 0 0,First,#,DakotaParcels,n_standard,-1,-1;ownership \"ownership\" true true false 30 Text 0 0,First,#,DakotaParcels,ownership,0,30;school_dst \"school_dst\" true true false 10 Text 0 0,First,#,DakotaParcels,school_dst,0,10;wshd_dst \"wshd_dst\" true true false 50 Text 0 0,First,#,DakotaParcels,wshd_dst,0,50;section \"section\" true true false 2 Short 0 0,First,#,DakotaParcels,section,-1,-1;township \"township\" true true false 2 Short 0 0,First,#,DakotaParcels,township,-1,-1;range \"range\" true true false 2 Short 0 0,First,#,DakotaParcels,range,-1,-1;range_dir \"range_dir\" true true false 2 Short 0 0,First,#,DakotaParcels,range_dir,-1,-1;prin_mer \"prin_mer\" true true false 2 Short 0 0,First,#,DakotaParcels,prin_mer,-1,-1;Shape_Length \"Shape_Length\" false true true 8 Double 0 0,First,#,DakotaParcels,Shape_Length,-1,-1;Shape_Area \"Shape_Area\" false true true 8 Double 0 0,First,#,DakotaParcels,Shape_Area,-1,-1',\n",
    "    sort_field=None\n",
    ")\n",
    "\n",
    "for parcelOID in dfDNRParcels['objectid'].tolist():\n",
    "    arcpy.management.SelectLayerByAttribute(\n",
    "        in_layer_or_view=\"DakotaParcels\",\n",
    "        selection_type=\"ADD_TO_SELECTION\",\n",
    "        where_clause=\"objectid = \"+ str(parcelOID),\n",
    "        invert_where_clause=None\n",
    "    )\n",
    "\n",
    "arcpy.conversion.ExportFeatures(\n",
    "    in_features=\"DakotaParcels\",\n",
    "    out_features=\"DakotaParcels_FWSDNR\",\n",
    "    where_clause=\"\",\n",
    "    use_field_alias_as_name=\"NOT_USE_ALIAS\",\n",
    "    field_mapping='objectid \"objectid\" true true false 4 Long 0 0,First,#,DakotaParcels,objectid,-1,-1;county_pin \"county_pin\" true true false 22 Text 0 0,First,#,DakotaParcels,county_pin,0,22;state_pin \"state_pin\" true true false 28 Text 0 0,First,#,DakotaParcels,state_pin,0,28;anumberpre \"anumberpre\" true true false 15 Text 0 0,First,#,DakotaParcels,anumberpre,0,15;anumber \"anumber\" true true false 4 Long 0 0,First,#,DakotaParcels,anumber,-1,-1;anumbersuf \"anumbersuf\" true true false 15 Text 0 0,First,#,DakotaParcels,anumbersuf,0,15;st_pre_mod \"st_pre_mod\" true true false 15 Text 0 0,First,#,DakotaParcels,st_pre_mod,0,15;st_pre_dir \"st_pre_dir\" true true false 9 Text 0 0,First,#,DakotaParcels,st_pre_dir,0,9;st_pre_typ \"st_pre_typ\" true true false 35 Text 0 0,First,#,DakotaParcels,st_pre_typ,0,35;st_pre_sep \"st_pre_sep\" true true false 20 Text 0 0,First,#,DakotaParcels,st_pre_sep,0,20;st_name \"st_name\" true true false 60 Text 0 0,First,#,DakotaParcels,st_name,0,60;st_pos_typ \"st_pos_typ\" true true false 15 Text 0 0,First,#,DakotaParcels,st_pos_typ,0,15;st_pos_dir \"st_pos_dir\" true true false 9 Text 0 0,First,#,DakotaParcels,st_pos_dir,0,9;st_pos_mod \"st_pos_mod\" true true false 15 Text 0 0,First,#,DakotaParcels,st_pos_mod,0,15;sub_type1 \"sub_type1\" true true false 12 Text 0 0,First,#,DakotaParcels,sub_type1,0,12;sub_id1 \"sub_id1\" true true false 30 Text 0 0,First,#,DakotaParcels,sub_id1,0,30;sub_type2 \"sub_type2\" true true false 12 Text 0 0,First,#,DakotaParcels,sub_type2,0,12;sub_id2 \"sub_id2\" true true false 30 Text 0 0,First,#,DakotaParcels,sub_id2,0,30;zip \"zip\" true true false 5 Text 0 0,First,#,DakotaParcels,zip,0,5;zip4 \"zip4\" true true false 4 Text 0 0,First,#,DakotaParcels,zip4,0,4;ctu_name \"ctu_name\" true true false 100 Text 0 0,First,#,DakotaParcels,ctu_name,0,100;ctu_id_txt \"ctu_id_txt\" true true false 8 Text 0 0,First,#,DakotaParcels,ctu_id_txt,0,8;postcomm \"postcomm\" true true false 40 Text 0 0,First,#,DakotaParcels,postcomm,0,40;co_code \"co_code\" true true false 5 Text 0 0,First,#,DakotaParcels,co_code,0,5;co_name \"co_name\" true true false 40 Text 0 0,First,#,DakotaParcels,co_name,0,40;state_code \"state_code\" true true false 2 Text 0 0,First,#,DakotaParcels,state_code,0,2;lot \"lot\" true true false 30 Text 0 0,First,#,DakotaParcels,lot,0,30;block \"block\" true true false 30 Text 0 0,First,#,DakotaParcels,block,0,30;plat_name \"plat_name\" true true false 150 Text 0 0,First,#,DakotaParcels,plat_name,0,150;owner_name \"owner_name\" true true false 100 Text 0 0,First,#,DakotaParcels,owner_name,0,100;owner_more \"owner_more\" true true false 100 Text 0 0,First,#,DakotaParcels,owner_more,0,100;own_add_l1 \"own_add_l1\" true true false 100 Text 0 0,First,#,DakotaParcels,own_add_l1,0,100;own_add_l2 \"own_add_l2\" true true false 100 Text 0 0,First,#,DakotaParcels,own_add_l2,0,100;own_add_l3 \"own_add_l3\" true true false 100 Text 0 0,First,#,DakotaParcels,own_add_l3,0,100;own_add_l4 \"own_add_l4\" true true false 100 Text 0 0,First,#,DakotaParcels,own_add_l4,0,100;tax_name \"tax_name\" true true false 100 Text 0 0,First,#,DakotaParcels,tax_name,0,100;tax_add_l1 \"tax_add_l1\" true true false 100 Text 0 0,First,#,DakotaParcels,tax_add_l1,0,100;tax_add_l2 \"tax_add_l2\" true true false 100 Text 0 0,First,#,DakotaParcels,tax_add_l2,0,100;tax_add_l3 \"tax_add_l3\" true true false 100 Text 0 0,First,#,DakotaParcels,tax_add_l3,0,100;tax_add_l4 \"tax_add_l4\" true true false 100 Text 0 0,First,#,DakotaParcels,tax_add_l4,0,100;landmark \"landmark\" true true false 150 Text 0 0,First,#,DakotaParcels,landmark,0,150;homestead \"homestead\" true true false 10 Text 0 0,First,#,DakotaParcels,homestead,0,10;acres_poly \"acres_poly\" true true false 8 Double 0 0,First,#,DakotaParcels,acres_poly,-1,-1;acres_deed \"acres_deed\" true true false 8 Double 0 0,First,#,DakotaParcels,acres_deed,-1,-1;emv_land \"emv_land\" true true false 4 Long 0 0,First,#,DakotaParcels,emv_land,-1,-1;emv_bldg \"emv_bldg\" true true false 4 Long 0 0,First,#,DakotaParcels,emv_bldg,-1,-1;emv_total \"emv_total\" true true false 4 Long 0 0,First,#,DakotaParcels,emv_total,-1,-1;tax_year \"tax_year\" true true false 2 Short 0 0,First,#,DakotaParcels,tax_year,-1,-1;mkt_year \"mkt_year\" true true false 2 Short 0 0,First,#,DakotaParcels,mkt_year,-1,-1;tax_capac \"tax_capac\" true true false 4 Long 0 0,First,#,DakotaParcels,tax_capac,-1,-1;total_tax \"total_tax\" true true false 4 Long 0 0,First,#,DakotaParcels,total_tax,-1,-1;spec_asses \"spec_asses\" true true false 4 Long 0 0,First,#,DakotaParcels,spec_asses,-1,-1;useclass1 \"useclass1\" true true false 100 Text 0 0,First,#,DakotaParcels,useclass1,0,100;useclass2 \"useclass2\" true true false 100 Text 0 0,First,#,DakotaParcels,useclass2,0,100;useclass3 \"useclass3\" true true false 100 Text 0 0,First,#,DakotaParcels,useclass3,0,100;useclass4 \"useclass4\" true true false 100 Text 0 0,First,#,DakotaParcels,useclass4,0,100;multi_uses \"multi_uses\" true true false 10 Text 0 0,First,#,DakotaParcels,multi_uses,0,10;tax_exempt \"tax_exempt\" true true false 3 Text 0 0,First,#,DakotaParcels,tax_exempt,0,3;xuseclass1 \"xuseclass1\" true true false 100 Text 0 0,First,#,DakotaParcels,xuseclass1,0,100;xuseclass2 \"xuseclass2\" true true false 100 Text 0 0,First,#,DakotaParcels,xuseclass2,0,100;xuseclass3 \"xuseclass3\" true true false 100 Text 0 0,First,#,DakotaParcels,xuseclass3,0,100;xuseclass4 \"xuseclass4\" true true false 100 Text 0 0,First,#,DakotaParcels,xuseclass4,0,100;dwell_type \"dwell_type\" true true false 30 Text 0 0,First,#,DakotaParcels,dwell_type,0,30;home_style \"home_style\" true true false 30 Text 0 0,First,#,DakotaParcels,home_style,0,30;fin_sq_ft \"fin_sq_ft\" true true false 4 Long 0 0,First,#,DakotaParcels,fin_sq_ft,-1,-1;garage \"garage\" true true false 10 Text 0 0,First,#,DakotaParcels,garage,0,10;garagesqft \"garagesqft\" true true false 4 Long 0 0,First,#,DakotaParcels,garagesqft,-1,-1;basement \"basement\" true true false 10 Text 0 0,First,#,DakotaParcels,basement,0,10;heating \"heating\" true true false 30 Text 0 0,First,#,DakotaParcels,heating,0,30;cooling \"cooling\" true true false 30 Text 0 0,First,#,DakotaParcels,cooling,0,30;year_built \"year_built\" true true false 2 Short 0 0,First,#,DakotaParcels,year_built,-1,-1;num_units \"num_units\" true true false 4 Long 0 0,First,#,DakotaParcels,num_units,-1,-1;sale_date \"sale_date\" true true false 8 Date 0 0,First,#,DakotaParcels,sale_date,-1,-1;sale_value \"sale_value\" true true false 4 Long 0 0,First,#,DakotaParcels,sale_value,-1,-1;green_acre \"green_acre\" true true false 10 Text 0 0,First,#,DakotaParcels,green_acre,0,10;open_space \"open_space\" true true false 10 Text 0 0,First,#,DakotaParcels,open_space,0,10;ag_preserv \"ag_preserv\" true true false 10 Text 0 0,First,#,DakotaParcels,ag_preserv,0,10;agpre_enrd \"agpre_enrd\" true true false 8 Date 0 0,First,#,DakotaParcels,agpre_enrd,-1,-1;agpre_expd \"agpre_expd\" true true false 8 Date 0 0,First,#,DakotaParcels,agpre_expd,-1,-1;abb_legal \"abb_legal\" true true false 254 Text 0 0,First,#,DakotaParcels,abb_legal,0,254;edit_date \"edit_date\" true true false 8 Date 0 0,First,#,DakotaParcels,edit_date,-1,-1;exp_date \"exp_date\" true true false 8 Date 0 0,First,#,DakotaParcels,exp_date,-1,-1;polyptrel \"polyptrel\" true true false 2 Short 0 0,First,#,DakotaParcels,polyptrel,-1,-1;n_standard \"n_standard\" true true false 2 Short 0 0,First,#,DakotaParcels,n_standard,-1,-1;ownership \"ownership\" true true false 30 Text 0 0,First,#,DakotaParcels,ownership,0,30;school_dst \"school_dst\" true true false 10 Text 0 0,First,#,DakotaParcels,school_dst,0,10;wshd_dst \"wshd_dst\" true true false 50 Text 0 0,First,#,DakotaParcels,wshd_dst,0,50;section \"section\" true true false 2 Short 0 0,First,#,DakotaParcels,section,-1,-1;township \"township\" true true false 2 Short 0 0,First,#,DakotaParcels,township,-1,-1;range \"range\" true true false 2 Short 0 0,First,#,DakotaParcels,range,-1,-1;range_dir \"range_dir\" true true false 2 Short 0 0,First,#,DakotaParcels,range_dir,-1,-1;prin_mer \"prin_mer\" true true false 2 Short 0 0,First,#,DakotaParcels,prin_mer,-1,-1;Shape_Length \"Shape_Length\" false true true 8 Double 0 0,First,#,DakotaParcels,Shape_Length,-1,-1;Shape_Area \"Shape_Area\" false true true 8 Double 0 0,First,#,DakotaParcels,Shape_Area,-1,-1',\n",
    "    sort_field=None\n",
    ")\n"
   ]
  },
  {
   "cell_type": "code",
   "execution_count": 33,
   "metadata": {},
   "outputs": [],
   "source": [
    "# DO NOT!\n",
    "# DO NOT!\n",
    "# DO NOT RUN UNLESS YOU WANT TO RESET THE NEGATIVE TRAINING DATA\n",
    "all_fields = ['OID@', 'objectid', 'county_pin', 'state_pin', 'own_add_l1', 'tax_name', 'acres_poly', 'emv_land', 'emv_bldg', 'emv_total', 'useclass1', 'useclass2','SHAPE@TRUECENTROID']\n",
    "\n",
    "\n",
    "for parcelOID in dfProspectiveParcels.sample(n = 25)['objectid'].tolist():\n",
    "    arcpy.management.SelectLayerByAttribute(\n",
    "        in_layer_or_view=\"DakotaParcels\",\n",
    "        selection_type=\"ADD_TO_SELECTION\",\n",
    "        where_clause=\"objectid = \"+ str(parcelOID),\n",
    "        invert_where_clause=None)\n",
    "\n",
    "dakotaparcel_positivenumpy = arcpy.da.FeatureClassToNumPyArray(\"DakotaParcels_trainingnegative\", all_fields, \"\")"
   ]
  },
  {
   "cell_type": "code",
   "execution_count": 32,
   "metadata": {},
   "outputs": [
    {
     "data": {
      "text/html": [
       "<div class='gpresult'><h2>Messages</h2><div id='messages' data-messages='[\"Start Time: Wednesday, December 13, 2023 5:43:19 PM\",\"Succeeded at Wednesday, December 13, 2023 5:43:21 PM (Elapsed Time: 1.31 seconds)\"]' data-show='true'><div id = 'default' /></div></div>"
      ],
      "text/plain": [
       "<Result 'C:\\\\Users\\\\18284\\\\Documents\\\\ArcGIS\\\\Projects\\\\finalproject\\\\finalproject.gdb\\\\DakotaParcels_trainingnegative'>"
      ]
     },
     "execution_count": 32,
     "metadata": {},
     "output_type": "execute_result"
    }
   ],
   "source": [
    "for parcelOID in dakotaparcel_positivenumpy['objectid'].tolist():\n",
    "    arcpy.management.SelectLayerByAttribute(\n",
    "        in_layer_or_view=\"DakotaParcels\",\n",
    "        selection_type=\"ADD_TO_SELECTION\",\n",
    "        where_clause=\"objectid = \"+ str(parcelOID),\n",
    "        invert_where_clause=None)\n",
    "\n",
    "arcpy.conversion.ExportFeatures(\n",
    "    in_features=\"DakotaParcels\",\n",
    "    out_features=\"DakotaParcels_trainingnegative\",\n",
    "    where_clause=\"\",\n",
    "    use_field_alias_as_name=\"NOT_USE_ALIAS\",\n",
    "    field_mapping='objectid \"objectid\" true true false 4 Long 0 0,First,#,DakotaParcels,objectid,-1,-1;county_pin \"county_pin\" true true false 22 Text 0 0,First,#,DakotaParcels,county_pin,0,22;state_pin \"state_pin\" true true false 28 Text 0 0,First,#,DakotaParcels,state_pin,0,28;anumberpre \"anumberpre\" true true false 15 Text 0 0,First,#,DakotaParcels,anumberpre,0,15;anumber \"anumber\" true true false 4 Long 0 0,First,#,DakotaParcels,anumber,-1,-1;anumbersuf \"anumbersuf\" true true false 15 Text 0 0,First,#,DakotaParcels,anumbersuf,0,15;st_pre_mod \"st_pre_mod\" true true false 15 Text 0 0,First,#,DakotaParcels,st_pre_mod,0,15;st_pre_dir \"st_pre_dir\" true true false 9 Text 0 0,First,#,DakotaParcels,st_pre_dir,0,9;st_pre_typ \"st_pre_typ\" true true false 35 Text 0 0,First,#,DakotaParcels,st_pre_typ,0,35;st_pre_sep \"st_pre_sep\" true true false 20 Text 0 0,First,#,DakotaParcels,st_pre_sep,0,20;st_name \"st_name\" true true false 60 Text 0 0,First,#,DakotaParcels,st_name,0,60;st_pos_typ \"st_pos_typ\" true true false 15 Text 0 0,First,#,DakotaParcels,st_pos_typ,0,15;st_pos_dir \"st_pos_dir\" true true false 9 Text 0 0,First,#,DakotaParcels,st_pos_dir,0,9;st_pos_mod \"st_pos_mod\" true true false 15 Text 0 0,First,#,DakotaParcels,st_pos_mod,0,15;sub_type1 \"sub_type1\" true true false 12 Text 0 0,First,#,DakotaParcels,sub_type1,0,12;sub_id1 \"sub_id1\" true true false 30 Text 0 0,First,#,DakotaParcels,sub_id1,0,30;sub_type2 \"sub_type2\" true true false 12 Text 0 0,First,#,DakotaParcels,sub_type2,0,12;sub_id2 \"sub_id2\" true true false 30 Text 0 0,First,#,DakotaParcels,sub_id2,0,30;zip \"zip\" true true false 5 Text 0 0,First,#,DakotaParcels,zip,0,5;zip4 \"zip4\" true true false 4 Text 0 0,First,#,DakotaParcels,zip4,0,4;ctu_name \"ctu_name\" true true false 100 Text 0 0,First,#,DakotaParcels,ctu_name,0,100;ctu_id_txt \"ctu_id_txt\" true true false 8 Text 0 0,First,#,DakotaParcels,ctu_id_txt,0,8;postcomm \"postcomm\" true true false 40 Text 0 0,First,#,DakotaParcels,postcomm,0,40;co_code \"co_code\" true true false 5 Text 0 0,First,#,DakotaParcels,co_code,0,5;co_name \"co_name\" true true false 40 Text 0 0,First,#,DakotaParcels,co_name,0,40;state_code \"state_code\" true true false 2 Text 0 0,First,#,DakotaParcels,state_code,0,2;lot \"lot\" true true false 30 Text 0 0,First,#,DakotaParcels,lot,0,30;block \"block\" true true false 30 Text 0 0,First,#,DakotaParcels,block,0,30;plat_name \"plat_name\" true true false 150 Text 0 0,First,#,DakotaParcels,plat_name,0,150;owner_name \"owner_name\" true true false 100 Text 0 0,First,#,DakotaParcels,owner_name,0,100;owner_more \"owner_more\" true true false 100 Text 0 0,First,#,DakotaParcels,owner_more,0,100;own_add_l1 \"own_add_l1\" true true false 100 Text 0 0,First,#,DakotaParcels,own_add_l1,0,100;own_add_l2 \"own_add_l2\" true true false 100 Text 0 0,First,#,DakotaParcels,own_add_l2,0,100;own_add_l3 \"own_add_l3\" true true false 100 Text 0 0,First,#,DakotaParcels,own_add_l3,0,100;own_add_l4 \"own_add_l4\" true true false 100 Text 0 0,First,#,DakotaParcels,own_add_l4,0,100;tax_name \"tax_name\" true true false 100 Text 0 0,First,#,DakotaParcels,tax_name,0,100;tax_add_l1 \"tax_add_l1\" true true false 100 Text 0 0,First,#,DakotaParcels,tax_add_l1,0,100;tax_add_l2 \"tax_add_l2\" true true false 100 Text 0 0,First,#,DakotaParcels,tax_add_l2,0,100;tax_add_l3 \"tax_add_l3\" true true false 100 Text 0 0,First,#,DakotaParcels,tax_add_l3,0,100;tax_add_l4 \"tax_add_l4\" true true false 100 Text 0 0,First,#,DakotaParcels,tax_add_l4,0,100;landmark \"landmark\" true true false 150 Text 0 0,First,#,DakotaParcels,landmark,0,150;homestead \"homestead\" true true false 10 Text 0 0,First,#,DakotaParcels,homestead,0,10;acres_poly \"acres_poly\" true true false 8 Double 0 0,First,#,DakotaParcels,acres_poly,-1,-1;acres_deed \"acres_deed\" true true false 8 Double 0 0,First,#,DakotaParcels,acres_deed,-1,-1;emv_land \"emv_land\" true true false 4 Long 0 0,First,#,DakotaParcels,emv_land,-1,-1;emv_bldg \"emv_bldg\" true true false 4 Long 0 0,First,#,DakotaParcels,emv_bldg,-1,-1;emv_total \"emv_total\" true true false 4 Long 0 0,First,#,DakotaParcels,emv_total,-1,-1;tax_year \"tax_year\" true true false 2 Short 0 0,First,#,DakotaParcels,tax_year,-1,-1;mkt_year \"mkt_year\" true true false 2 Short 0 0,First,#,DakotaParcels,mkt_year,-1,-1;tax_capac \"tax_capac\" true true false 4 Long 0 0,First,#,DakotaParcels,tax_capac,-1,-1;total_tax \"total_tax\" true true false 4 Long 0 0,First,#,DakotaParcels,total_tax,-1,-1;spec_asses \"spec_asses\" true true false 4 Long 0 0,First,#,DakotaParcels,spec_asses,-1,-1;useclass1 \"useclass1\" true true false 100 Text 0 0,First,#,DakotaParcels,useclass1,0,100;useclass2 \"useclass2\" true true false 100 Text 0 0,First,#,DakotaParcels,useclass2,0,100;useclass3 \"useclass3\" true true false 100 Text 0 0,First,#,DakotaParcels,useclass3,0,100;useclass4 \"useclass4\" true true false 100 Text 0 0,First,#,DakotaParcels,useclass4,0,100;multi_uses \"multi_uses\" true true false 10 Text 0 0,First,#,DakotaParcels,multi_uses,0,10;tax_exempt \"tax_exempt\" true true false 3 Text 0 0,First,#,DakotaParcels,tax_exempt,0,3;xuseclass1 \"xuseclass1\" true true false 100 Text 0 0,First,#,DakotaParcels,xuseclass1,0,100;xuseclass2 \"xuseclass2\" true true false 100 Text 0 0,First,#,DakotaParcels,xuseclass2,0,100;xuseclass3 \"xuseclass3\" true true false 100 Text 0 0,First,#,DakotaParcels,xuseclass3,0,100;xuseclass4 \"xuseclass4\" true true false 100 Text 0 0,First,#,DakotaParcels,xuseclass4,0,100;dwell_type \"dwell_type\" true true false 30 Text 0 0,First,#,DakotaParcels,dwell_type,0,30;home_style \"home_style\" true true false 30 Text 0 0,First,#,DakotaParcels,home_style,0,30;fin_sq_ft \"fin_sq_ft\" true true false 4 Long 0 0,First,#,DakotaParcels,fin_sq_ft,-1,-1;garage \"garage\" true true false 10 Text 0 0,First,#,DakotaParcels,garage,0,10;garagesqft \"garagesqft\" true true false 4 Long 0 0,First,#,DakotaParcels,garagesqft,-1,-1;basement \"basement\" true true false 10 Text 0 0,First,#,DakotaParcels,basement,0,10;heating \"heating\" true true false 30 Text 0 0,First,#,DakotaParcels,heating,0,30;cooling \"cooling\" true true false 30 Text 0 0,First,#,DakotaParcels,cooling,0,30;year_built \"year_built\" true true false 2 Short 0 0,First,#,DakotaParcels,year_built,-1,-1;num_units \"num_units\" true true false 4 Long 0 0,First,#,DakotaParcels,num_units,-1,-1;sale_date \"sale_date\" true true false 8 Date 0 0,First,#,DakotaParcels,sale_date,-1,-1;sale_value \"sale_value\" true true false 4 Long 0 0,First,#,DakotaParcels,sale_value,-1,-1;green_acre \"green_acre\" true true false 10 Text 0 0,First,#,DakotaParcels,green_acre,0,10;open_space \"open_space\" true true false 10 Text 0 0,First,#,DakotaParcels,open_space,0,10;ag_preserv \"ag_preserv\" true true false 10 Text 0 0,First,#,DakotaParcels,ag_preserv,0,10;agpre_enrd \"agpre_enrd\" true true false 8 Date 0 0,First,#,DakotaParcels,agpre_enrd,-1,-1;agpre_expd \"agpre_expd\" true true false 8 Date 0 0,First,#,DakotaParcels,agpre_expd,-1,-1;abb_legal \"abb_legal\" true true false 254 Text 0 0,First,#,DakotaParcels,abb_legal,0,254;edit_date \"edit_date\" true true false 8 Date 0 0,First,#,DakotaParcels,edit_date,-1,-1;exp_date \"exp_date\" true true false 8 Date 0 0,First,#,DakotaParcels,exp_date,-1,-1;polyptrel \"polyptrel\" true true false 2 Short 0 0,First,#,DakotaParcels,polyptrel,-1,-1;n_standard \"n_standard\" true true false 2 Short 0 0,First,#,DakotaParcels,n_standard,-1,-1;ownership \"ownership\" true true false 30 Text 0 0,First,#,DakotaParcels,ownership,0,30;school_dst \"school_dst\" true true false 10 Text 0 0,First,#,DakotaParcels,school_dst,0,10;wshd_dst \"wshd_dst\" true true false 50 Text 0 0,First,#,DakotaParcels,wshd_dst,0,50;section \"section\" true true false 2 Short 0 0,First,#,DakotaParcels,section,-1,-1;township \"township\" true true false 2 Short 0 0,First,#,DakotaParcels,township,-1,-1;range \"range\" true true false 2 Short 0 0,First,#,DakotaParcels,range,-1,-1;range_dir \"range_dir\" true true false 2 Short 0 0,First,#,DakotaParcels,range_dir,-1,-1;prin_mer \"prin_mer\" true true false 2 Short 0 0,First,#,DakotaParcels,prin_mer,-1,-1;Shape_Length \"Shape_Length\" false true true 8 Double 0 0,First,#,DakotaParcels,Shape_Length,-1,-1;Shape_Area \"Shape_Area\" false true true 8 Double 0 0,First,#,DakotaParcels,Shape_Area,-1,-1',\n",
    "    sort_field=None\n",
    ")"
   ]
  },
  {
   "cell_type": "code",
   "execution_count": 2,
   "metadata": {},
   "outputs": [
    {
     "data": {
      "text/html": [
       "<div class='gpresult'><h2>Messages</h2><div id='messages' data-messages='[\"Start Time: Wednesday, December 13, 2023 1:47:41 AM\",\"Succeeded at Wednesday, December 13, 2023 1:47:58 AM (Elapsed Time: 16.69 seconds)\"]' data-show='true'><div id = 'default' /></div></div>"
      ],
      "text/plain": [
       "<Result 'C:\\\\Users\\\\18284\\\\Documents\\\\ArcGIS\\\\Projects\\\\finalproject\\\\finalproject.gdb\\\\DakotaParcels_trainingnegative2'>"
      ]
     },
     "execution_count": 2,
     "metadata": {},
     "output_type": "execute_result"
    }
   ],
   "source": [
    "# DO NOT!\n",
    "# DO NOT!\n",
    "# DO NOT RUN UNLESS YOU WANT TO RESET THE NEGATIVE TRAINING DATA\n",
    "\n",
    "arcpy.conversion.ExportFeatures(\n",
    "    in_features=\"DakotaParcels\",\n",
    "    out_features=\"DakotaParcels_trainingnegative2\",\n",
    "    where_clause=\"\",\n",
    "    use_field_alias_as_name=\"NOT_USE_ALIAS\",\n",
    "    field_mapping='objectid \"objectid\" true true false 4 Long 0 0,First,#,DakotaParcels,objectid,-1,-1;county_pin \"county_pin\" true true false 22 Text 0 0,First,#,DakotaParcels,county_pin,0,22;state_pin \"state_pin\" true true false 28 Text 0 0,First,#,DakotaParcels,state_pin,0,28;anumberpre \"anumberpre\" true true false 15 Text 0 0,First,#,DakotaParcels,anumberpre,0,15;anumber \"anumber\" true true false 4 Long 0 0,First,#,DakotaParcels,anumber,-1,-1;anumbersuf \"anumbersuf\" true true false 15 Text 0 0,First,#,DakotaParcels,anumbersuf,0,15;st_pre_mod \"st_pre_mod\" true true false 15 Text 0 0,First,#,DakotaParcels,st_pre_mod,0,15;st_pre_dir \"st_pre_dir\" true true false 9 Text 0 0,First,#,DakotaParcels,st_pre_dir,0,9;st_pre_typ \"st_pre_typ\" true true false 35 Text 0 0,First,#,DakotaParcels,st_pre_typ,0,35;st_pre_sep \"st_pre_sep\" true true false 20 Text 0 0,First,#,DakotaParcels,st_pre_sep,0,20;st_name \"st_name\" true true false 60 Text 0 0,First,#,DakotaParcels,st_name,0,60;st_pos_typ \"st_pos_typ\" true true false 15 Text 0 0,First,#,DakotaParcels,st_pos_typ,0,15;st_pos_dir \"st_pos_dir\" true true false 9 Text 0 0,First,#,DakotaParcels,st_pos_dir,0,9;st_pos_mod \"st_pos_mod\" true true false 15 Text 0 0,First,#,DakotaParcels,st_pos_mod,0,15;sub_type1 \"sub_type1\" true true false 12 Text 0 0,First,#,DakotaParcels,sub_type1,0,12;sub_id1 \"sub_id1\" true true false 30 Text 0 0,First,#,DakotaParcels,sub_id1,0,30;sub_type2 \"sub_type2\" true true false 12 Text 0 0,First,#,DakotaParcels,sub_type2,0,12;sub_id2 \"sub_id2\" true true false 30 Text 0 0,First,#,DakotaParcels,sub_id2,0,30;zip \"zip\" true true false 5 Text 0 0,First,#,DakotaParcels,zip,0,5;zip4 \"zip4\" true true false 4 Text 0 0,First,#,DakotaParcels,zip4,0,4;ctu_name \"ctu_name\" true true false 100 Text 0 0,First,#,DakotaParcels,ctu_name,0,100;ctu_id_txt \"ctu_id_txt\" true true false 8 Text 0 0,First,#,DakotaParcels,ctu_id_txt,0,8;postcomm \"postcomm\" true true false 40 Text 0 0,First,#,DakotaParcels,postcomm,0,40;co_code \"co_code\" true true false 5 Text 0 0,First,#,DakotaParcels,co_code,0,5;co_name \"co_name\" true true false 40 Text 0 0,First,#,DakotaParcels,co_name,0,40;state_code \"state_code\" true true false 2 Text 0 0,First,#,DakotaParcels,state_code,0,2;lot \"lot\" true true false 30 Text 0 0,First,#,DakotaParcels,lot,0,30;block \"block\" true true false 30 Text 0 0,First,#,DakotaParcels,block,0,30;plat_name \"plat_name\" true true false 150 Text 0 0,First,#,DakotaParcels,plat_name,0,150;owner_name \"owner_name\" true true false 100 Text 0 0,First,#,DakotaParcels,owner_name,0,100;owner_more \"owner_more\" true true false 100 Text 0 0,First,#,DakotaParcels,owner_more,0,100;own_add_l1 \"own_add_l1\" true true false 100 Text 0 0,First,#,DakotaParcels,own_add_l1,0,100;own_add_l2 \"own_add_l2\" true true false 100 Text 0 0,First,#,DakotaParcels,own_add_l2,0,100;own_add_l3 \"own_add_l3\" true true false 100 Text 0 0,First,#,DakotaParcels,own_add_l3,0,100;own_add_l4 \"own_add_l4\" true true false 100 Text 0 0,First,#,DakotaParcels,own_add_l4,0,100;tax_name \"tax_name\" true true false 100 Text 0 0,First,#,DakotaParcels,tax_name,0,100;tax_add_l1 \"tax_add_l1\" true true false 100 Text 0 0,First,#,DakotaParcels,tax_add_l1,0,100;tax_add_l2 \"tax_add_l2\" true true false 100 Text 0 0,First,#,DakotaParcels,tax_add_l2,0,100;tax_add_l3 \"tax_add_l3\" true true false 100 Text 0 0,First,#,DakotaParcels,tax_add_l3,0,100;tax_add_l4 \"tax_add_l4\" true true false 100 Text 0 0,First,#,DakotaParcels,tax_add_l4,0,100;landmark \"landmark\" true true false 150 Text 0 0,First,#,DakotaParcels,landmark,0,150;homestead \"homestead\" true true false 10 Text 0 0,First,#,DakotaParcels,homestead,0,10;acres_poly \"acres_poly\" true true false 8 Double 0 0,First,#,DakotaParcels,acres_poly,-1,-1;acres_deed \"acres_deed\" true true false 8 Double 0 0,First,#,DakotaParcels,acres_deed,-1,-1;emv_land \"emv_land\" true true false 4 Long 0 0,First,#,DakotaParcels,emv_land,-1,-1;emv_bldg \"emv_bldg\" true true false 4 Long 0 0,First,#,DakotaParcels,emv_bldg,-1,-1;emv_total \"emv_total\" true true false 4 Long 0 0,First,#,DakotaParcels,emv_total,-1,-1;tax_year \"tax_year\" true true false 2 Short 0 0,First,#,DakotaParcels,tax_year,-1,-1;mkt_year \"mkt_year\" true true false 2 Short 0 0,First,#,DakotaParcels,mkt_year,-1,-1;tax_capac \"tax_capac\" true true false 4 Long 0 0,First,#,DakotaParcels,tax_capac,-1,-1;total_tax \"total_tax\" true true false 4 Long 0 0,First,#,DakotaParcels,total_tax,-1,-1;spec_asses \"spec_asses\" true true false 4 Long 0 0,First,#,DakotaParcels,spec_asses,-1,-1;useclass1 \"useclass1\" true true false 100 Text 0 0,First,#,DakotaParcels,useclass1,0,100;useclass2 \"useclass2\" true true false 100 Text 0 0,First,#,DakotaParcels,useclass2,0,100;useclass3 \"useclass3\" true true false 100 Text 0 0,First,#,DakotaParcels,useclass3,0,100;useclass4 \"useclass4\" true true false 100 Text 0 0,First,#,DakotaParcels,useclass4,0,100;multi_uses \"multi_uses\" true true false 10 Text 0 0,First,#,DakotaParcels,multi_uses,0,10;tax_exempt \"tax_exempt\" true true false 3 Text 0 0,First,#,DakotaParcels,tax_exempt,0,3;xuseclass1 \"xuseclass1\" true true false 100 Text 0 0,First,#,DakotaParcels,xuseclass1,0,100;xuseclass2 \"xuseclass2\" true true false 100 Text 0 0,First,#,DakotaParcels,xuseclass2,0,100;xuseclass3 \"xuseclass3\" true true false 100 Text 0 0,First,#,DakotaParcels,xuseclass3,0,100;xuseclass4 \"xuseclass4\" true true false 100 Text 0 0,First,#,DakotaParcels,xuseclass4,0,100;dwell_type \"dwell_type\" true true false 30 Text 0 0,First,#,DakotaParcels,dwell_type,0,30;home_style \"home_style\" true true false 30 Text 0 0,First,#,DakotaParcels,home_style,0,30;fin_sq_ft \"fin_sq_ft\" true true false 4 Long 0 0,First,#,DakotaParcels,fin_sq_ft,-1,-1;garage \"garage\" true true false 10 Text 0 0,First,#,DakotaParcels,garage,0,10;garagesqft \"garagesqft\" true true false 4 Long 0 0,First,#,DakotaParcels,garagesqft,-1,-1;basement \"basement\" true true false 10 Text 0 0,First,#,DakotaParcels,basement,0,10;heating \"heating\" true true false 30 Text 0 0,First,#,DakotaParcels,heating,0,30;cooling \"cooling\" true true false 30 Text 0 0,First,#,DakotaParcels,cooling,0,30;year_built \"year_built\" true true false 2 Short 0 0,First,#,DakotaParcels,year_built,-1,-1;num_units \"num_units\" true true false 4 Long 0 0,First,#,DakotaParcels,num_units,-1,-1;sale_date \"sale_date\" true true false 8 Date 0 0,First,#,DakotaParcels,sale_date,-1,-1;sale_value \"sale_value\" true true false 4 Long 0 0,First,#,DakotaParcels,sale_value,-1,-1;green_acre \"green_acre\" true true false 10 Text 0 0,First,#,DakotaParcels,green_acre,0,10;open_space \"open_space\" true true false 10 Text 0 0,First,#,DakotaParcels,open_space,0,10;ag_preserv \"ag_preserv\" true true false 10 Text 0 0,First,#,DakotaParcels,ag_preserv,0,10;agpre_enrd \"agpre_enrd\" true true false 8 Date 0 0,First,#,DakotaParcels,agpre_enrd,-1,-1;agpre_expd \"agpre_expd\" true true false 8 Date 0 0,First,#,DakotaParcels,agpre_expd,-1,-1;abb_legal \"abb_legal\" true true false 254 Text 0 0,First,#,DakotaParcels,abb_legal,0,254;edit_date \"edit_date\" true true false 8 Date 0 0,First,#,DakotaParcels,edit_date,-1,-1;exp_date \"exp_date\" true true false 8 Date 0 0,First,#,DakotaParcels,exp_date,-1,-1;polyptrel \"polyptrel\" true true false 2 Short 0 0,First,#,DakotaParcels,polyptrel,-1,-1;n_standard \"n_standard\" true true false 2 Short 0 0,First,#,DakotaParcels,n_standard,-1,-1;ownership \"ownership\" true true false 30 Text 0 0,First,#,DakotaParcels,ownership,0,30;school_dst \"school_dst\" true true false 10 Text 0 0,First,#,DakotaParcels,school_dst,0,10;wshd_dst \"wshd_dst\" true true false 50 Text 0 0,First,#,DakotaParcels,wshd_dst,0,50;section \"section\" true true false 2 Short 0 0,First,#,DakotaParcels,section,-1,-1;township \"township\" true true false 2 Short 0 0,First,#,DakotaParcels,township,-1,-1;range \"range\" true true false 2 Short 0 0,First,#,DakotaParcels,range,-1,-1;range_dir \"range_dir\" true true false 2 Short 0 0,First,#,DakotaParcels,range_dir,-1,-1;prin_mer \"prin_mer\" true true false 2 Short 0 0,First,#,DakotaParcels,prin_mer,-1,-1;Shape_Length \"Shape_Length\" false true true 8 Double 0 0,First,#,DakotaParcels,Shape_Length,-1,-1;Shape_Area \"Shape_Area\" false true true 8 Double 0 0,First,#,DakotaParcels,Shape_Area,-1,-1',\n",
    "    sort_field=None\n",
    ")"
   ]
  },
  {
   "cell_type": "code",
   "execution_count": 11,
   "metadata": {},
   "outputs": [],
   "source": [
    "import numpy as np\n",
    "\n",
    "#  A) LOAD THE PARCEL IDs OF THE TRAINING DATA \n",
    "# ~~~~~~~~~~~~~~~~~~~~~~~~~~~~~~~~~~~~~~~~~~~~~~~~~~~~~~~~~~~~~~~~~~~~~~~~~~~~~~~~~~~~\n",
    "analysisFields = ['acres_poly', 'useclass2', 'distance_fws_NN',\n",
    "       'distance_dnr_NN', 'distance_prairie_NN', 'distance_all_NN',\n",
    "       'usd_per_acre_total', 'usd_per_acre_bldg', 'usd_per_acre_land']\n",
    "# TODO: ADD <$500/Acre cutoff!\n",
    "\n",
    "\n",
    "# Pass dataframe by value\n",
    "dfPP = dfProspectiveParcels.copy()\n",
    "dfMLParcels = dfPP.copy()\n",
    "dfMLParcels = dfMLParcels[analysisFields]\n",
    "mLParcels = dfMLParcels.to_numpy().astype(float)\n",
    "\n",
    "# READ\n",
    "all_fields = ['objectid']\n",
    "fc1 = 'DakotaParcels_trainingnegative'\n",
    "fc2 = 'DakotaParcels_trainingpositive'\n",
    "\n",
    "\n",
    "# LOAD PARCEL DATA TO NP ARRAY\n",
    "negative_parcelOID = arcpy.da.FeatureClassToNumPyArray(fc1, all_fields, \"\")\n",
    "positive_parcelOID = arcpy.da.FeatureClassToNumPyArray(fc2, all_fields, \"\")\n",
    "\n",
    "x_n = []\n",
    "x_p = []\n",
    "\n",
    "# FIND TRAINING PARCELS\n",
    "# --------------------------\n",
    "prosOID = dfPP['objectid'].to_numpy()\n",
    "numParcels = prosOID.shape[0]\n",
    "\n",
    "for item in positive_parcelOID['objectid']:\n",
    "    x = np.where(prosOID == item)\n",
    "    if len(x)>0:\n",
    "        if len(x[0])>0:\n",
    "            x_p.append(x[0][0])\n",
    "\n",
    "for item in negative_parcelOID['objectid']:\n",
    "    x = np.where(prosOID == item)\n",
    "    if len(x)>0:\n",
    "        if len(x[0])>0:\n",
    "            x_n.append(x[0][0])\n",
    "#--------------------------\n",
    "# ~~~~~~~~~~~~~~~~~~~~~~~~~~~~~~~~~~~~~~~~~~~~~~~~~~~~~~~~~~~~~~~~~~~~~~~~~~~~~~~~~~~~\n",
    "\n",
    "\n",
    "#   B) CREATE MASKs ASSOCIATING THE TRAINING DATA TO PROSPECTIVE DATA\n",
    "# ~~~~~~~~~~~~~~~~~~~~~~~~~~~~~~~~~~~~~~~~~~~~~~~~~~~~~~~~~~~~~~~~~~~~~~~~~~~~~~~~~~~~\n",
    "nIndexArray = np.array(x_n, dtype=int)\n",
    "pIndexArray = np.array(x_p, dtype=int)\n",
    "\n",
    "nMaskArray = np.zeros(prosOID.shape[0], dtype=int)\n",
    "nMaskArray[nIndexArray] = 1\n",
    "\n",
    "pMaskArray = np.zeros(prosOID.shape[0], dtype=int)\n",
    "pMaskArray[pIndexArray] = 1\n",
    "\n",
    "uMaskArray = np.logical_not((nMaskArray + pMaskArray).astype(bool))\n",
    "# ~~~~~~~~~~~~~~~~~~~~~~~~~~~~~~~~~~~~~~~~~~~~~~~~~~~~~~~~~~~~~~~~~~~~~~~~~~~~~~~~~~~~\n",
    "\n",
    "#   C) SANITIZE THE PARCEL DATA FOR NANs or INFs\n",
    "# ~~~~~~~~~~~~~~~~~~~~~~~~~~~~~~~~~~~~~~~~~~~~~~~~~~~~~~~~~~~~~~~~~~~~~~~~~~~~~~~~~~~~\n",
    "#random_choice_size = 100000\n",
    "#ZIndexArray = np.random.choice(uIndexArray, random_choice_size)\n",
    "Z = mLParcels#[ZIndexArray]\n",
    "ZIndexArray = numpy.arange(0, Z.shape[0], 1, dtype=int)\n",
    "\n",
    "Znan = np.argwhere(np.logical_or(np.isnan(Z).any(axis=1),np.isinf(Z).any(axis=1))).flatten()\n",
    "\n",
    "Z = numpy.delete(Z, Znan, axis = 0)\n",
    "\n",
    "# Input new index get old index (ZIndexArray)\n",
    "ZIndexArray = numpy.delete(ZIndexArray, Znan, axis = 0)\n",
    "# ~~~~~~~~~~~~~~~~~~~~~~~~~~~~~~~~~~~~~~~~~~~~~~~~~~~~~~~~~~~~~~~~~~~~~~~~~~~~~~~~~~~~\n",
    "\n",
    "\n",
    "#   D) CONVERT TRAINING DAtA INTO A ML FORMAT\n",
    "# ~~~~~~~~~~~~~~~~~~~~~~~~~~~~~~~~~~~~~~~~~~~~~~~~~~~~~~~~~~~~~~~~~~~~~~~~~~~~~~~~~~~~\n",
    "X = np.vstack((mLParcels[nIndexArray], mLParcels[pIndexArray]))\n",
    "\n",
    "\n",
    "Y = np.zeros((len(nIndexArray)+len(pIndexArray)))\n",
    "Y[0:len(nIndexArray)] = 0\n",
    "Y[len(nIndexArray):(len(nIndexArray)+len(pIndexArray))] = 1\n",
    "# ~~~~~~~~~~~~~~~~~~~~~~~~~~~~~~~~~~~~~~~~~~~~~~~~~~~~~~~~~~~~~~~~~~~~~~~~~~~~~~~~~~~~"
   ]
  },
  {
   "cell_type": "code",
   "execution_count": 1,
   "metadata": {},
   "outputs": [
    {
     "ename": "NameError",
     "evalue": "name 'Z' is not defined",
     "output_type": "error",
     "traceback": [
      "\u001b[0;31m---------------------------------------------------------------------------\u001b[0m\n\u001b[0;31mNameError\u001b[0m                                 Traceback (most recent call last)",
      "In  \u001b[0;34m[1]\u001b[0m:\nLine \u001b[0;34m9\u001b[0m:     scaling.fit(Z)\n",
      "\u001b[0;31mNameError\u001b[0m: name 'Z' is not defined\n\u001b[0;31m---------------------------------------------------------------------------\u001b[0m"
     ]
    }
   ],
   "source": [
    "# SHOW PCA ANALYSIS OF DATA\n",
    "import matplotlib.pyplot as plt\n",
    "from sklearn.decomposition import PCA\n",
    "from sklearn.preprocessing import StandardScaler\n",
    "\n",
    "scaling=StandardScaler()\n",
    " \n",
    "# Use fit and transform method \n",
    "scaling.fit(Z)\n",
    "Scaled_fit_data=scaling.transform(Z)\n",
    "Scaled_predict_data=scaling.transform(X)\n",
    " \n",
    "# Set the n_components=2\n",
    "principal=PCA(n_components=6)\n",
    "principal.fit(Scaled_fit_data)\n",
    "x=principal.transform(Scaled_predict_data)\n",
    "\n",
    "plt.scatter(x[:,0],x[:,1], c=Y,cmap='plasma', alpha=0.3)\n",
    "plt.xlabel('pc1')\n",
    "plt.ylabel('pc2')\n",
    "plt.show()\n",
    "\n",
    "#plt.scatter(x[:,0],x[:,2], c=Y,cmap='plasma', alpha=0.3)\n",
    "#plt.xlabel('pc1')\n",
    "#plt.ylabel('pc3')\n",
    "#plt.show()\n",
    "\n",
    "#plt.scatter(x[:,0],x[:,3], c=Y,cmap='plasma', alpha=0.3)\n",
    "#plt.xlabel('pc1')\n",
    "#plt.ylabel('pc4')\n",
    "#plt.show()\n",
    "\n",
    "#plt.scatter(x[:,0],x[:,4], c=Y,cmap='plasma', alpha=0.3)\n",
    "#plt.xlabel('pc1')\n",
    "#plt.ylabel('pc5')\n",
    "#plt.show()\n",
    "\n",
    "print(\"Fraction of explained variance: \" + str(sum(principal.explained_variance_ratio_)))\n",
    "plt.show()"
   ]
  },
  {
   "cell_type": "code",
   "execution_count": 13,
   "metadata": {},
   "outputs": [],
   "source": [
    "from sklearn import svm\n",
    "from sklearn.decomposition import PCA\n",
    "from sklearn.preprocessing import StandardScaler\n",
    "\n",
    "#   A) NORMALIZE THE TRAINING AND TESTING DATA\n",
    "# ~~~~~~~~~~~~~~~~~~~~~~~~~~~~~~~~~~~~~~~~~~~~~~~~~~~~~~~~~~~~~~~~~~~~~~~~~~~~~~~~~~~~\n",
    "scaling=StandardScaler()\n",
    " \n",
    "# Use fit and transform method \n",
    "scaling.fit(Z)\n",
    "Scaled_X_data=scaling.transform(X)\n",
    "Scaled_Z_data=scaling.transform(Z)\n",
    "# ~~~~~~~~~~~~~~~~~~~~~~~~~~~~~~~~~~~~~~~~~~~~~~~~~~~~~~~~~~~~~~~~~~~~~~~~~~~~~~~~~~~~\n",
    "\n",
    "\n",
    "#   B) SIMPLIFY DATA USING PRINCIPAL COMPONENT ANALYSIS\n",
    "# ~~~~~~~~~~~~~~~~~~~~~~~~~~~~~~~~~~~~~~~~~~~~~~~~~~~~~~~~~~~~~~~~~~~~~~~~~~~~~~~~~~~~\n",
    "# Set the n_components s= 2\n",
    "principal = PCA(n_components = 4)\n",
    "\n",
    "principal.fit(Scaled_Z_data)\n",
    "\n",
    "reduced_Z_data = principal.transform(Scaled_Z_data)\n",
    "reduced_X_data = principal.transform(Scaled_X_data)\n",
    "# ~~~~~~~~~~~~~~~~~~~~~~~~~~~~~~~~~~~~~~~~~~~~~~~~~~~~~~~~~~~~~~~~~~~~~~~~~~~~~~~~~~~~~\n",
    "\n",
    "#   C) APPLY THE SEPERATION USING A SUPPORT VECTOR MACHINE WITH AN RBF KERNEL\n",
    "# ~~~~~~~~~~~~~~~~~~~~~~~~~~~~~~~~~~~~~~~~~~~~~~~~~~~~~~~~~~~~~~~~~~~~~~~~~~~~~~~~~~~~~\n",
    "# SVM RADIAL KERNEL\n",
    "clf = svm.SVC(probability=True)\n",
    "clf.fit(reduced_X_data, Y)\n",
    "result = clf.predict_proba(reduced_Z_data)\n",
    "# ~~~~~~~~~~~~~~~~~~~~~~~~~~~~~~~~~~~~~~~~~~~~~~~~~~~~~~~~~~~~~~~~~~~~~~~~~~~~~~~~~~~~~\n",
    "\n",
    "\n",
    "#   D) SELECT THE TOP 25 PICKS ON THE MAP\n",
    "# ~~~~~~~~~~~~~~~~~~~~~~~~~~~~~~~~~~~~~~~~~~~~~~~~~~~~~~~~~~~~~~~~~~~~~~~~~~~~~~~~~~~~~\n",
    "# RANKS THE TOP PICKS\n",
    "rankedObjectID = dfPP.loc[ZIndexArray[numpy.argsort(result[:,1])[::-1]]]#['objectid'].tolist()\n",
    "rankedObjectID['confidence'] = numpy.sort(result[:,1])[::-1]\n",
    "#top25 = ZIndexArray[result[:,1]>0.99]\n",
    "#top25 = dfPP.iloc[ZIndexArray[numpy.argsort(result[:,0])]]['objectid'].tolist()[:25]\n",
    "\n",
    "# SELECT THE TOP 25 PICK\n",
    "import os\n",
    "o_fields = ['OID@', 'objectid', 'county_pin', 'state_pin', 'own_add_l1', 'tax_name', 'acres_poly', 'emv_land', 'emv_bldg', 'emv_total', 'useclass1', 'useclass2','SHAPE@TRUECENTROID','confidence']\n",
    "fc = 'DakotaParcels'\n",
    "local_path = arcpy.Describe(fc).path\n",
    "parcel_numpy = arcpy.da.FeatureClassToNumPyArray(fc, o_fields, \"\")\n",
    "spatial_ref = arcpy.Describe(fc).spatialReference\n",
    "#parcel_numpy['confidence'][ZIndexArray] = result[:,1]\n",
    "#print(parcel_numpy['confidence'])\n",
    "\n",
    "# Create the update cursor\n",
    "cursor = arcpy.UpdateCursor('DakotaParcels')\n",
    "\n",
    "with arcpy.da.UpdateCursor('DakotaParcels', [\"objectid\", \"confidence\"]) as cursor:\n",
    "    for row in cursor:\n",
    "        r = rankedObjectID.loc[rankedObjectID['objectid'] == row[0]]\n",
    "        if len(r) != 0:\n",
    "            row[1] = float(r['confidence'])\n",
    "            cursor.updateRow(row)"
   ]
  },
  {
   "cell_type": "code",
   "execution_count": 14,
   "metadata": {},
   "outputs": [],
   "source": [
    "# SET THE DISTANCE TO LAND COLUMN\n",
    "cursor = arcpy.UpdateCursor('DakotaParcels')\n",
    "\n",
    "with arcpy.da.UpdateCursor('DakotaParcels', [\"objectid\", \"distancetoland\"]) as cursor:\n",
    "    for row in cursor:\n",
    "        r = dfProspectiveParcels.loc[dfProspectiveParcels['objectid'] == row[0]]\n",
    "        if len(r) != 0:\n",
    "            row[1] = float(r['distance_all_NN'])\n",
    "            cursor.updateRow(row)"
   ]
  },
  {
   "cell_type": "code",
   "execution_count": 13,
   "metadata": {},
   "outputs": [],
   "source": [
    "# SELECT TOP 100!\n",
    "for item in rankedObjectID['objectid'].tolist()[:100]:\n",
    "    arcpy.management.SelectLayerByAttribute(\n",
    "        in_layer_or_view=\"DakotaParcels\",\n",
    "        selection_type=\"ADD_TO_SELECTION\",\n",
    "        where_clause=\"objectid = \"+ str(item),\n",
    "        invert_where_clause = None\n",
    "    )\n",
    "# ~~~~~~~~~~~~~~~~~~~~~~~~~~~~~~~~~~~~~~~~~~~~~~~~~~~~~~~~~~~~~~~~~~~~~~~~~~~~~~~~~~~~~\n",
    "\n",
    "# CALCULATE True Positive (good good picks) and False Positive (bad good picks) rate!"
   ]
  },
  {
   "cell_type": "code",
   "execution_count": 16,
   "metadata": {},
   "outputs": [],
   "source": [
    "# SELECT BOTTOM 100!\n",
    "for item in rankedObjectID['objectid'].tolist()[-100:]:\n",
    "    arcpy.management.SelectLayerByAttribute(\n",
    "        in_layer_or_view=\"DakotaParcels\",\n",
    "        selection_type=\"ADD_TO_SELECTION\",\n",
    "        where_clause=\"objectid = \"+ str(item),\n",
    "        invert_where_clause = None\n",
    "    )\n",
    "# ~~~~~~~~~~~~~~~~~~~~~~~~~~~~~~~~~~~~~~~~~~~~~~~~~~~~~~~~~~~~~~~~~~~~~~~~~~~~~~~~~~~~~\n",
    "\n",
    "# CALCULATE True Negative (good bad picks) and False Negative (bad bad picks) rate!"
   ]
  },
  {
   "cell_type": "code",
   "execution_count": 2,
   "metadata": {},
   "outputs": [
    {
     "data": {
      "text/html": [
       "<div class='gpresult'><h2>Messages</h2><div id='messages' data-messages='[\"Start Time: Friday, December 15, 2023 11:40:44 PM\",\"Succeeded at Friday, December 15, 2023 11:40:52 PM (Elapsed Time: 7.95 seconds)\"]' data-show='true'><div id = 'default' /></div></div>"
      ],
      "text/plain": [
       "<Result 'C:\\\\Users\\\\18284\\\\Documents\\\\ArcGIS\\\\Projects\\\\finalproject\\\\finalproject.gdb\\\\ParcelLanduseRaster'>"
      ]
     },
     "execution_count": 2,
     "metadata": {},
     "output_type": "execute_result"
    }
   ],
   "source": [
    "# convert parcel land type to raster\n",
    "\n",
    "arcpy.conversion.PolygonToRaster(\"DakotaParcels\", \"useclass1\", \"ParcelLanduseRaster\", \"MAXIMUM_COMBINED_AREA\")"
   ]
  },
  {
   "cell_type": "code",
   "execution_count": 4,
   "metadata": {},
   "outputs": [
    {
     "data": {
      "text/html": [
       "<div class='gpresult'><h2>Messages</h2><div id='messages' data-messages='[\"Start Time: Sunday, December 17, 2023 7:09:09 PM\",\"Succeeded at Sunday, December 17, 2023 7:09:13 PM (Elapsed Time: 4.04 seconds)\"]' data-show='true'><div id = 'default' /></div></div>"
      ],
      "text/plain": [
       "<Result 'C:\\\\Users\\\\18284\\\\Documents\\\\ArcGIS\\\\Projects\\\\finalproject\\\\finalproject.gdb\\\\Reclass_Parc1'>"
      ]
     },
     "execution_count": 4,
     "metadata": {},
     "output_type": "execute_result"
    }
   ],
   "source": [
    "# reclassify land type to binary preferred/nonpreferred land types\n",
    "\n",
    "arcpy.ddd.Reclassify(\n",
    "    in_raster=\"ParcelLanduseRaster\",\n",
    "    reclass_field=\"useclass1\",\n",
    "    remap=\"Residential 1;Residential-Townhouse 1;Apartment 1;'Ag-Ag Preserve' 2;Exempt 2;'Ag-Green Acres' 2;Commercial-Preferred 1;Ag 2;Industrial-Preferred 1;Commercial 1;Machinery 1;'Commercial-Open Space' 2;Industrial 1;Utilities 1;'Apartment-Mobile Home Park' 1;Railroad 1;'Apartment-Mobile Home' 1;'Commercial-Preferred-Open Space' 1;Utilities-Preferred 1;'Apartment-Nursing Home' 20\",\n",
    "    out_raster=r\"C:\\Users\\18284\\Documents\\ArcGIS\\Projects\\finalproject\\finalproject.gdb\\Reclass_Parc1\",\n",
    "    missing_values=\"DATA\"\n",
    ")"
   ]
  },
  {
   "cell_type": "code",
   "execution_count": 2,
   "metadata": {},
   "outputs": [
    {
     "data": {
      "text/html": [
       "<div class='gpresult'><h2>Messages</h2><div id='messages' data-messages='[\"Start Time: Sunday, December 17, 2023 7:03:09 PM\",\"Succeeded at Sunday, December 17, 2023 7:03:18 PM (Elapsed Time: 8.81 seconds)\"]' data-show='true'><div id = 'default' /></div></div>"
      ],
      "text/plain": [
       "<Result 'C:\\\\Users\\\\18284\\\\Documents\\\\ArcGIS\\\\Projects\\\\finalproject\\\\finalproject.gdb\\\\ParcelCostRaster'>"
      ]
     },
     "execution_count": 2,
     "metadata": {},
     "output_type": "execute_result"
    }
   ],
   "source": [
    "# convert parcel cost per acre to raster\n",
    "\n",
    "arcpy.conversion.PolygonToRaster(\"DakotaParcels\", \"costperacre\", \"ParcelCostRaster\", \"MAXIMUM_COMBINED_AREA\")"
   ]
  },
  {
   "cell_type": "code",
   "execution_count": 5,
   "metadata": {},
   "outputs": [
    {
     "data": {
      "text/html": [
       "<div class='gpresult'><h2>Messages</h2><div id='messages' data-messages='[\"Start Time: Sunday, December 17, 2023 7:20:25 PM\",\"Succeeded at Sunday, December 17, 2023 7:20:27 PM (Elapsed Time: 1.85 seconds)\"]' data-show='true'><div id = 'default' /></div></div>"
      ],
      "text/plain": [
       "<Result 'C:\\\\Users\\\\18284\\\\Documents\\\\ArcGIS\\\\Projects\\\\finalproject\\\\finalproject.gdb\\\\Reclass_Parc2'>"
      ]
     },
     "execution_count": 5,
     "metadata": {},
     "output_type": "execute_result"
    }
   ],
   "source": [
    "# reclassify into integer categories\n",
    "\n",
    "arcpy.ddd.Reclassify(\n",
    "    in_raster=\"ParcelCostRaster\",\n",
    "    reclass_field=\"Value\",\n",
    "    remap=\"4 5375 1;5375 9914 2;9914 14039 3;14039 18891 4;18891 24223 5;24223 29000 6;29000 33026 7;33026 37083 8;37083 41983 9;41983 46026 10\",\n",
    "    out_raster=r\"C:\\Users\\18284\\Documents\\ArcGIS\\Projects\\finalproject\\finalproject.gdb\\Reclass_Parc2\",\n",
    "    missing_values=\"DATA\"\n",
    ")"
   ]
  },
  {
   "cell_type": "code",
   "execution_count": 20,
   "metadata": {},
   "outputs": [
    {
     "data": {
      "text/html": [
       "<div class='gpresult'><h2>Messages</h2><div id='messages' data-messages='[\"Start Time: Saturday, December 16, 2023 2:39:41 PM\",\"Succeeded at Saturday, December 16, 2023 2:39:46 PM (Elapsed Time: 5.46 seconds)\"]' data-show='true'><div id = 'default' /></div></div>"
      ],
      "text/plain": [
       "<Result 'C:\\\\Users\\\\18284\\\\Documents\\\\ArcGIS\\\\Projects\\\\finalproject\\\\finalproject.gdb\\\\ParcelDistanceRaster'>"
      ]
     },
     "execution_count": 20,
     "metadata": {},
     "output_type": "execute_result"
    }
   ],
   "source": [
    "# convert parcel land distance to raster\n",
    "\n",
    "arcpy.conversion.PolygonToRaster(\"DakotaParcels\", \"distancetoland\", \"ParcelDistanceRaster\", \"MAXIMUM_COMBINED_AREA\")"
   ]
  },
  {
   "cell_type": "code",
   "execution_count": 7,
   "metadata": {},
   "outputs": [
    {
     "data": {
      "text/html": [
       "<div class='gpresult'><h2>Messages</h2><div id='messages' data-messages='[\"Start Time: Sunday, December 17, 2023 7:25:19 PM\",\"Succeeded at Sunday, December 17, 2023 7:25:21 PM (Elapsed Time: 1.85 seconds)\"]' data-show='true'><div id = 'default' /></div></div>"
      ],
      "text/plain": [
       "<Result 'C:\\\\Users\\\\18284\\\\Documents\\\\ArcGIS\\\\Projects\\\\finalproject\\\\finalproject.gdb\\\\Reclass_Parc3'>"
      ]
     },
     "execution_count": 7,
     "metadata": {},
     "output_type": "execute_result"
    }
   ],
   "source": [
    "# reclassify to integer values\n",
    "\n",
    "arcpy.ddd.Reclassify(\n",
    "    in_raster=\"ParcelDistanceRaster\",\n",
    "    reclass_field=\"VALUE\",\n",
    "    remap=\"27.075730469 865.102307524 1;865.102307524 1563.457788403 2;1563.457788403 2226.895495238 3;2226.895495238 2890.333202073 4;2890.333202073 3588.688682952 5;3588.688682952 4287.044163831 6;4287.044163831 4985.399644710 7;4985.399644710 5753.590673676 8;5753.590673676 6766.206120951 9;6766.206120951 8931.108111675 10\",\n",
    "    out_raster=r\"C:\\Users\\18284\\Documents\\ArcGIS\\Projects\\finalproject\\finalproject.gdb\\Reclass_Parc3\",\n",
    "    missing_values=\"DATA\"\n",
    ")"
   ]
  },
  {
   "cell_type": "code",
   "execution_count": 8,
   "metadata": {},
   "outputs": [],
   "source": [
    "# create weighted raster\n",
    "\n",
    "out_raster = arcpy.sa.WeightedOverlay(\n",
    "    in_weighted_overlay_table=r\"('C:\\Users\\18284\\Documents\\ArcGIS\\Projects\\finalproject\\finalproject.gdb\\Reclass_Parc1' 34 'useclass1' ('Residential/Residential-Townhouse/Apartment/Commercial-Preferred/Industrial-Preferred/Commercial/Machinery/Industrial/Utilities/' 1; 'Ag-Ag Preserve/Exempt/Ag-Green Acres/Ag/Commercial-Open Space' 9; 'Apartment-Nursing Home' 1; NODATA NODATA); 'C:\\Users\\18284\\Documents\\ArcGIS\\Projects\\finalproject\\finalproject.gdb\\Reclass_Parc2' 33 'Value' (1 9; 2 8; 3 7; 4 6; 5 5; 6 4; 7 3; 8 2; 9 1; 10 1; NODATA NODATA); 'C:\\Users\\18284\\Documents\\ArcGIS\\Projects\\finalproject\\finalproject.gdb\\Reclass_Parc3' 33 'Value' (1 9; 2 8; 3 7; 4 6; 5 5; 6 4; 7 3; 8 2; 9 1; 10 1; NODATA NODATA));1 9 1\"\n",
    ")\n",
    "out_raster.save(r\"C:\\Users\\18284\\Documents\\ArcGIS\\Projects\\finalproject\\finalproject.gdb\\WeightedRaster\")"
   ]
  },
  {
   "cell_type": "code",
   "execution_count": null,
   "metadata": {},
   "outputs": [],
   "source": []
  }
 ],
 "metadata": {
  "kernelspec": {
   "display_name": "ArcGISPro",
   "language": "Python",
   "name": "python3"
  },
  "language_info": {
   "file_extension": ".py",
   "name": "python",
   "version": "3"
  }
 },
 "nbformat": 4,
 "nbformat_minor": 2
}
